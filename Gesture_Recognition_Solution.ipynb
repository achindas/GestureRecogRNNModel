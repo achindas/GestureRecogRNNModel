{
 "cells": [
  {
   "cell_type": "markdown",
   "metadata": {
    "id": "B_GRWRa0tDG4"
   },
   "source": [
    "# Gesture Recognition Solution Using Deep Learning Models\n",
    "In this project, we will build deep learnng models that will be able to recognise 5 different hand gestures correctly.\n",
    "\n",
    "## Problem Statement\n",
    "We want to develop a cool feature in the smart-TV for the TV Manufacturers that can recognise **five different gestures** performed by the user which will help users control the TV without using a remote. The gestures are continuously monitored by the webcam mounted on the TV. Each gesture corresponds to a specific command:\n",
    "\n",
    "* Thumbs up:  Increase the volume\n",
    "* Thumbs down: Decrease the volume\n",
    "* Left swipe: 'Jump' backwards 10 seconds\n",
    "* Right swipe: 'Jump' forward 10 seconds  \n",
    "* Stop: Pause the movie\n",
    "\n",
    "The training data consists of a few hundred videos categorised into one of the five classes corresponding to five gestures. Each video (typically 2-3 seconds long) is divided into a sequence of 30 frames(images). These videos have been recorded by various people performing one of the five gestures in front of a webcam - similar to what the smart TV will use.\n",
    "\n",
    "Our task is to train a deep learning model using the gesture clips in the 'train' folder which performs well on the clips in the 'val' folder as well.\n",
    "\n",
    "## Approach\n",
    "Our approach for analysing videos using neural networks would include exploring two types of architectures:\n",
    "1. **3D convolutional network** which is a natural extension to the 2D convolutions in which case, the input to a 3D conv is a video (which is a sequence of 30 RGB images). The video becomes a 4-D tensor of shape 100x100x3x30. A 3-D kernel/filter (a 'cubic' filter) will '3D-convolve' on each of the three channels of the (100x100x30) tensor.\n",
    "2. **Standard CNN + RNN architecture** in which we pass the images of a video through a Convolutional Neural Network (CNN) which extracts a feature vector for each image, and then pass the sequence of these feature vectors through a Recurrent Neural Network(RNN).\n",
    "\n",
    "The **Steps** we will take in this project are:\n",
    "\n",
    "1. Setup Data Access\n",
    "2. Build Generator for Incremental Image Loading\n",
    "3. Build and Validate Models\n",
    "4. Conclusion"
   ]
  },
  {
   "cell_type": "markdown",
   "metadata": {
    "id": "qVhm1jfJWdyu"
   },
   "source": [
    "## 1. Setup Data Access"
   ]
  },
  {
   "cell_type": "code",
   "execution_count": 17,
   "metadata": {
    "executionInfo": {
     "elapsed": 964,
     "status": "ok",
     "timestamp": 1731246845434,
     "user": {
      "displayName": "Ahul K.Vidhyadaran",
      "userId": "05023894389320834244"
     },
     "user_tz": -330
    },
    "id": "Z9rxTzpZtDG7"
   },
   "outputs": [],
   "source": [
    "# !pip install imageio pillow\n",
    "# !pip install h5py"
   ]
  },
  {
   "cell_type": "code",
   "execution_count": 18,
   "metadata": {
    "executionInfo": {
     "elapsed": 8,
     "status": "ok",
     "timestamp": 1731246845993,
     "user": {
      "displayName": "Ahul K.Vidhyadaran",
      "userId": "05023894389320834244"
     },
     "user_tz": -330
    },
    "id": "exK3dFfltDG8"
   },
   "outputs": [],
   "source": [
    "import numpy as np\n",
    "import os\n",
    "import math\n",
    "import imageio.v2 as imageio\n",
    "from PIL import Image\n",
    "import datetime\n",
    "import os"
   ]
  },
  {
   "cell_type": "markdown",
   "metadata": {
    "id": "hwvji_WdtDG9"
   },
   "source": [
    "We set the random seed so that the results don't vary drastically."
   ]
  },
  {
   "cell_type": "code",
   "execution_count": 19,
   "metadata": {
    "executionInfo": {
     "elapsed": 8,
     "status": "ok",
     "timestamp": 1731246845994,
     "user": {
      "displayName": "Ahul K.Vidhyadaran",
      "userId": "05023894389320834244"
     },
     "user_tz": -330
    },
    "id": "htvPJfI2tDG9"
   },
   "outputs": [],
   "source": [
    "np.random.seed(30)\n",
    "import random as rn\n",
    "rn.seed(30)\n",
    "from keras import backend as K\n",
    "import tensorflow as tf\n",
    "tf.random.set_seed(30)"
   ]
  },
  {
   "cell_type": "code",
   "execution_count": 20,
   "metadata": {
    "colab": {
     "base_uri": "https://localhost:8080/"
    },
    "executionInfo": {
     "elapsed": 3244,
     "status": "ok",
     "timestamp": 1731246849231,
     "user": {
      "displayName": "Ahul K.Vidhyadaran",
      "userId": "05023894389320834244"
     },
     "user_tz": -330
    },
    "id": "PRgiWSBztDG9",
    "outputId": "bcec9c7c-add4-42d9-915b-5e70fe7f5fe4"
   },
   "outputs": [],
   "source": [
    "# Mount Gdrive in case Google Colab is used for GPU processing\n",
    "\n",
    "## Mount gdrive and read dataset from gdrive\n",
    "# from google.colab import drive\n",
    "# drive.mount('/content/drive')\n",
    "\n",
    "# base_path = '/content/drive/My Drive/Learn/AI-ML/Upgrad/GestureRecognition/Project_data'"
   ]
  },
  {
   "cell_type": "code",
   "execution_count": 21,
   "metadata": {
    "executionInfo": {
     "elapsed": 18,
     "status": "ok",
     "timestamp": 1731246849232,
     "user": {
      "displayName": "Ahul K.Vidhyadaran",
      "userId": "05023894389320834244"
     },
     "user_tz": -330
    },
    "id": "JbilCLa6tDG9"
   },
   "outputs": [],
   "source": [
    "# Set the base path to video data\n",
    "base_path = '/home/datasets/Project_data'    # For Jarvislabs Platform\n",
    "# base_path = '/content/drive/MyDrive/DS Datasets/Project_data'    # For Google Colab Platform\n",
    "# base_path = '/notebooks/storage/Final_data/Collated_training'    # For Local PC\n",
    "# base_path = '/Users/achindas/Library/CloudStorage/OneDrive-Personal/Current Office/Career - 2024/EGP in ML & AI - IIITB/Course 4 - Deep Learning/Mod 7 - Gesture Recog Project/Project_data'   # For Local PC\n",
    "\n",
    "# Read the folder lists containing video images for different gesture types related to training and validation\n",
    "train_doc = np.random.permutation(open(f'{base_path}/train.csv').readlines())\n",
    "val_doc = np.random.permutation(open(f'{base_path}/val.csv').readlines())\n"
   ]
  },
  {
   "cell_type": "code",
   "execution_count": 22,
   "metadata": {
    "executionInfo": {
     "elapsed": 17,
     "status": "ok",
     "timestamp": 1731246849232,
     "user": {
      "displayName": "Ahul K.Vidhyadaran",
      "userId": "05023894389320834244"
     },
     "user_tz": -330
    },
    "id": "is7YIPygtDG-"
   },
   "outputs": [],
   "source": [
    "batch_size = 32"
   ]
  },
  {
   "cell_type": "markdown",
   "metadata": {
    "id": "UWAELn3stDG-"
   },
   "source": [
    "## 2. Build Generator for Incremental Image Loading\n",
    "In this deep learning project, we need to feed data to the model in batches. This is done using the concept of generators.\n",
    "\n",
    "In the generator, we are going to preprocess the images as we have images of 2 different dimensions (120 X 160 and 360 X 360) as well as create a batch of video frames. We will have to experiment with `img_idx`, `image height`,`image width` and normalization to arrive at high accuracy. We will create two Generators - one with **data augmentation** and other with only cropping and resizing"
   ]
  },
  {
   "cell_type": "code",
   "execution_count": 23,
   "metadata": {
    "executionInfo": {
     "elapsed": 17,
     "status": "ok",
     "timestamp": 1731246849232,
     "user": {
      "displayName": "Ahul K.Vidhyadaran",
      "userId": "05023894389320834244"
     },
     "user_tz": -330
    },
    "id": "sGpnb5YGtDG-"
   },
   "outputs": [],
   "source": [
    "from tensorflow.keras.preprocessing.image import ImageDataGenerator\n",
    "\n",
    "# Define the generator method with additional image augmentation.\n",
    "# This method will be used for Conv3D models to reduce overfitting\n",
    "def generator(source_path, folder_list, batch_size, img_idx, img_h, img_w):\n",
    "    print('\\nSource path =', source_path, '; batch size =', batch_size)\n",
    "    datagen = ImageDataGenerator(\n",
    "        rescale=1./255,\n",
    "        zoom_range=0.2,\n",
    "        horizontal_flip=True,\n",
    "        width_shift_range=0.1,\n",
    "        height_shift_range=0.1,\n",
    "        rotation_range=10,\n",
    "        brightness_range=[0.8,1.2]\n",
    "    )\n",
    "    while True:\n",
    "        t = np.random.permutation(folder_list)\n",
    "        num_batches = math.ceil(len(folder_list)/batch_size)\n",
    "        for batch in range(num_batches):\n",
    "            current_batch_size = min(batch_size, len(folder_list) - batch * batch_size)\n",
    "            x = len(img_idx)\n",
    "            y = img_h\n",
    "            z = img_w\n",
    "            batch_data = np.zeros((current_batch_size, x, y, z, 3))\n",
    "            batch_labels = np.zeros((current_batch_size, 5))\n",
    "            for folder in range(current_batch_size):\n",
    "                folder_name = t[batch * batch_size + folder].strip().split(';')[0]\n",
    "                label = int(t[batch * batch_size + folder].strip().split(';')[2])\n",
    "                imgs = sorted(os.listdir(os.path.join(source_path, folder_name)))\n",
    "                for idx, item in enumerate(img_idx):\n",
    "                    if item >= len(imgs):\n",
    "                        # Loop back if index exceeds the number of images\n",
    "                        item = item % len(imgs)\n",
    "                    image_path = os.path.join(source_path, folder_name, imgs[item])\n",
    "                    image = imageio.imread(image_path)\n",
    "                    # Resize while maintaining aspect ratio\n",
    "                    image_pil = Image.fromarray(image)\n",
    "                    image_pil.thumbnail((img_w, img_h), Image.LANCZOS)\n",
    "                    # Center crop\n",
    "                    left = (image_pil.width - img_w)/2\n",
    "                    top = (image_pil.height - img_h)/2\n",
    "                    right = (image_pil.width + img_w)/2\n",
    "                    bottom = (image_pil.height + img_h)/2\n",
    "                    image_pil = image_pil.crop((left, top, right, bottom))\n",
    "                    image_array = np.array(image_pil).astype(np.float32)\n",
    "                    # Apply data augmentation\n",
    "                    image_array = datagen.random_transform(image_array)\n",
    "                    # Assign image to batch data\n",
    "                    batch_data[folder, idx] = image_array\n",
    "                batch_labels[folder, label] = 1\n",
    "            yield batch_data, batch_labels\n",
    "\n",
    "# Define the generator method without image augmentation.\n",
    "# This method will be used for CNN+RNN models\n",
    "def generator2(source_path, folder_list, batch_size, img_idx, img_h, img_w):\n",
    "    print('\\nSource path =', source_path, '; batch size =', batch_size)\n",
    "    while True:\n",
    "        t = np.random.permutation(folder_list)\n",
    "        num_batches = math.ceil(len(folder_list)/batch_size) # num_batches will be 1 extra for last fractional batch\n",
    "        for batch in range(num_batches):  # iterate over number of batches\n",
    "            if batch == num_batches-1:   # Handle the last batch specially in case it's fractional batch\n",
    "                current_batch_size = len(folder_list) -  batch * batch_size # find remaining videos to process\n",
    "            else:\n",
    "                current_batch_size = batch_size\n",
    "            # print('\\nBatch No =', batch, '; Current batch size =', current_batch_size)\n",
    "            x = len(img_idx)\n",
    "            y = img_h\n",
    "            z = img_w\n",
    "            batch_data = np.zeros((current_batch_size, x, y, z, 3))  # Create batch data array\n",
    "            batch_labels = np.zeros((current_batch_size, 5))  # Create batch labels array\n",
    "\n",
    "            for folder in range(current_batch_size):  # iterate over batch_size\n",
    "                imgs = os.listdir(os.path.join(source_path, t[folder + (batch * batch_size)].split(';')[0]))  # Read images in folder\n",
    "                for idx, item in enumerate(img_idx):  # Iterate over frames/images in folder\n",
    "                    image_path = os.path.join(source_path, t[folder + (batch * batch_size)].strip().split(';')[0], imgs[item])\n",
    "\n",
    "                    # Load, crop and resize image to img_h X img_w, keeping in memory\n",
    "                    image = imageio.imread(image_path)\n",
    "\n",
    "                    # Crop non-symmetric images of shape (120, 160) to (120, 120)\n",
    "                    height, width, channel = image.shape\n",
    "                    if width == 160:\n",
    "                        image=image[:120,20:140,:]\n",
    "\n",
    "                    image_pil = Image.fromarray(image)\n",
    "                    image_resized = image_pil.resize((img_h, img_w), Image.LANCZOS) # Image.ANTIALIAS is deprecated\n",
    "                    image_array = np.array(image_resized).astype(np.float32)\n",
    "\n",
    "                    # Normalize and assign resized image to batch_data\n",
    "                    batch_data[folder, idx, :, :, 0] = image_array[:, :, 0] / 255.0\n",
    "                    batch_data[folder, idx, :, :, 1] = image_array[:, :, 1] / 255.0\n",
    "                    batch_data[folder, idx, :, :, 2] = image_array[:, :, 2] / 255.0\n",
    "\n",
    "                batch_labels[folder, int(t[folder + (batch * batch_size)].strip().split(';')[2])] = 1\n",
    "\n",
    "            yield batch_data, batch_labels  # Yield the batch data and labels"
   ]
  },
  {
   "cell_type": "markdown",
   "metadata": {
    "id": "w9R4nK5utDG_"
   },
   "source": [
    "Note here that a video is represented above in the generator as (number of images, height, width, number of channels). This will be taken this into consideration while creating the model architecture."
   ]
  },
  {
   "cell_type": "code",
   "execution_count": 24,
   "metadata": {
    "colab": {
     "base_uri": "https://localhost:8080/"
    },
    "executionInfo": {
     "elapsed": 17,
     "status": "ok",
     "timestamp": 1731246849233,
     "user": {
      "displayName": "Ahul K.Vidhyadaran",
      "userId": "05023894389320834244"
     },
     "user_tz": -330
    },
    "id": "Aqf7OLh6tDG_",
    "outputId": "7013e5a0-fc08-47d0-95e4-a27ee05e9228"
   },
   "outputs": [
    {
     "name": "stdout",
     "output_type": "stream",
     "text": [
      "# training sequences = 663\n",
      "# validation sequences = 100\n",
      "# epochs = 10\n"
     ]
    }
   ],
   "source": [
    "curr_dt_time = datetime.datetime.now()\n",
    "train_path = f'{base_path}/train'\n",
    "val_path = f'{base_path}/val'\n",
    "\n",
    "num_train_sequences = len(train_doc)\n",
    "print('# training sequences =', num_train_sequences)\n",
    "num_val_sequences = len(val_doc)\n",
    "print('# validation sequences =', num_val_sequences)\n",
    "num_epochs = 10\n",
    "print ('# epochs =', num_epochs)"
   ]
  },
  {
   "cell_type": "markdown",
   "metadata": {
    "id": "NZerHfIRtDG_"
   },
   "source": [
    "## 3. Build and Validate Models\n",
    "Here we make the models using different functionalities that Keras provides. We need to use `Conv3D` and `MaxPooling3D` and not `Conv2D` and `Maxpooling2D` for a 3D convolution model. We would use `TimeDistributed` while building a Conv2D + RNN model. The last layer is the softmax. We need to design the network in such a way that the model is able to give good accuracy on the least number of parameters so that it can fit in the memory of the webcam."
   ]
  },
  {
   "cell_type": "markdown",
   "metadata": {
    "id": "Gx0IRYGIWdy1"
   },
   "source": [
    "### 3.1 Create Common Utility Functions"
   ]
  },
  {
   "cell_type": "code",
   "execution_count": 25,
   "metadata": {
    "executionInfo": {
     "elapsed": 16,
     "status": "ok",
     "timestamp": 1731246849233,
     "user": {
      "displayName": "Ahul K.Vidhyadaran",
      "userId": "05023894389320834244"
     },
     "user_tz": -330
    },
    "id": "lGCwEjiktDG_"
   },
   "outputs": [],
   "source": [
    "from tensorflow.keras.models import Sequential, Model\n",
    "from tensorflow.keras.layers import Dense, GRU, Flatten, TimeDistributed, BatchNormalization, Activation, LSTM\n",
    "from tensorflow.keras.layers import Conv3D, MaxPooling3D, Conv2D, MaxPooling2D, Dropout, Bidirectional, Input, GlobalAveragePooling2D\n",
    "from tensorflow.keras.callbacks import ModelCheckpoint, ReduceLROnPlateau\n",
    "\n",
    "import numpy as np\n",
    "import matplotlib.pyplot as plt\n",
    "\n",
    "from tensorflow.keras import regularizers\n",
    "from tensorflow.keras.regularizers import l2\n",
    "from tensorflow.keras.optimizers import Adam\n",
    "from tensorflow.keras.callbacks import CSVLogger, EarlyStopping"
   ]
  },
  {
   "cell_type": "code",
   "execution_count": 26,
   "metadata": {
    "executionInfo": {
     "elapsed": 15,
     "status": "ok",
     "timestamp": 1731246849234,
     "user": {
      "displayName": "Ahul K.Vidhyadaran",
      "userId": "05023894389320834244"
     },
     "user_tz": -330
    },
    "id": "vr4CUs3JWdy2"
   },
   "outputs": [],
   "source": [
    "# Build some generic utility functions that can be used for model building\n",
    "\n",
    "# Python function to compile and summarise models\n",
    "def model_compile(model,optimiser):\n",
    "    model.compile(optimizer=optimiser, loss='categorical_crossentropy', metrics=['categorical_accuracy'])\n",
    "    return model.summary()\n",
    "\n",
    "# Python function to train models\n",
    "def model_train(model, model_abbr, train_generator, steps_per_epoch, num_epochs,val_generator,validation_steps, curr_dt_time):\n",
    "    model_name = 'model_'+ model_abbr +'_' + str(curr_dt_time).replace(' ','').replace(':','_') + '/'\n",
    "\n",
    "    if not os.path.exists(model_name):\n",
    "        os.mkdir(model_name)\n",
    "\n",
    "    filepath = model_name + 'model-{epoch:05d}-{loss:.5f}-{categorical_accuracy:.5f}-{val_loss:.5f}-{val_categorical_accuracy:.5f}.h5'\n",
    "\n",
    "    checkpoint = ModelCheckpoint(filepath, monitor='val_loss', verbose=1, save_best_only=True, save_weights_only=False, mode='auto')\n",
    "\n",
    "    LR = ReduceLROnPlateau(monitor='val_loss', factor=0.2, patience=5, min_lr=0.0001)\n",
    "\n",
    "    csv_logger = CSVLogger(model_name + 'training.log')   # This callback is for saving training history\n",
    "\n",
    "    callbacks_list = [checkpoint, LR, csv_logger]\n",
    "\n",
    "    history = model.fit(train_generator, steps_per_epoch=steps_per_epoch, epochs=num_epochs, verbose=1,\n",
    "                        callbacks=callbacks_list, validation_data=val_generator,\n",
    "                        validation_steps=validation_steps, class_weight=None, initial_epoch=0)\n",
    "    return history\n",
    "\n",
    "# Function to plot training & validation metrics\n",
    "def model_plot(history, epochs):\n",
    "    # Extract the accouracy and loss results from Model result\n",
    "    trg_acc = history.history['categorical_accuracy']\n",
    "    val_acc = history.history['val_categorical_accuracy']\n",
    "\n",
    "    trg_loss = history.history['loss']\n",
    "    val_loss = history.history['val_loss']\n",
    "\n",
    "    epochs_range = range(epochs)\n",
    "\n",
    "    plt.figure(figsize=(8, 6))\n",
    "\n",
    "    # Plot the Accuracy trend\n",
    "    plt.subplot(1, 2, 1)\n",
    "    plt.plot(epochs_range, trg_acc, label='Training Accuracy')\n",
    "    plt.plot(epochs_range, val_acc, label='Validation Accuracy')\n",
    "    plt.legend(loc='lower right')\n",
    "    plt.title('Training and Validation Accuracy')\n",
    "\n",
    "    # Plot the Loss trend\n",
    "    plt.subplot(1, 2, 2)\n",
    "    plt.plot(epochs_range, trg_loss, label='Training Loss')\n",
    "    plt.plot(epochs_range, val_loss, label='Validation Loss')\n",
    "    plt.legend(loc='upper right')\n",
    "    plt.title('Training and Validation Loss')\n",
    "    plt.show()\n",
    "\n",
    "# Instantiate the Train and Validation image Generators to be used by model.fit() method\n",
    "\n",
    "def train_conv3d_model(model, callbacks_list):\n",
    "    train_generator = generator(train_path, train_doc, batch_size, img_idx, img_h, img_w)\n",
    "    val_generator = generator(val_path, val_doc, batch_size, img_idx, img_h, img_w)\n",
    "\n",
    "    if (num_train_sequences%batch_size) == 0:\n",
    "        steps_per_epoch = int(num_train_sequences/batch_size)\n",
    "    else:\n",
    "        steps_per_epoch = (num_train_sequences//batch_size) + 1\n",
    "\n",
    "    if (num_val_sequences%batch_size) == 0:\n",
    "        validation_steps = int(num_val_sequences/batch_size)\n",
    "    else:\n",
    "        validation_steps = (num_val_sequences//batch_size) + 1\n",
    "\n",
    "    #Train Model\n",
    "    history = model.fit(train_generator, steps_per_epoch=steps_per_epoch, epochs=num_epochs, verbose=1,\n",
    "                        callbacks=callbacks_list, validation_data=val_generator,\n",
    "                        validation_steps=validation_steps, class_weight=None, initial_epoch=0)\n",
    "    return history\n",
    "\n",
    "# Create and return the Callbacks for model training\n",
    "def get_conv3d_callbacks():\n",
    "    # Set-up for saving model execution weights\n",
    "    model_name = 'model_init' + '_' + str(curr_dt_time).replace(' ','').replace(':','_') + '/'\n",
    "\n",
    "    if not os.path.exists(model_name):\n",
    "        os.mkdir(model_name)\n",
    "\n",
    "    filepath = model_name + 'model-{epoch:05d}-{loss:.5f}-{categorical_accuracy:.5f}-{val_loss:.5f}-{val_categorical_accuracy:.5f}.keras'\n",
    "\n",
    "    checkpoint = ModelCheckpoint(filepath,\n",
    "                                 monitor='val_loss',\n",
    "                                 verbose=1,\n",
    "                                 save_best_only=False,\n",
    "                                 save_weights_only=False,\n",
    "                                 mode='auto')\n",
    "\n",
    "    LR = ReduceLROnPlateau(\n",
    "        monitor='val_loss',     # Monitor the validation loss\n",
    "        factor=0.1,             # Reduce the learning rate by a factor of 0.1 (new_lr = old_lr * factor)\n",
    "        patience=5,            # Number of epochs with no improvement after which the learning rate will be reduced\n",
    "        min_lr=1e-6,            # Minimum learning rate that the model will reduce to\n",
    "        verbose=1               # Print messages when learning rate is reduced\n",
    "    )\n",
    "    callbacks_list = [checkpoint, LR]\n",
    "    return callbacks_list"
   ]
  },
  {
   "cell_type": "code",
   "execution_count": 27,
   "metadata": {
    "executionInfo": {
     "elapsed": 15,
     "status": "ok",
     "timestamp": 1731246849234,
     "user": {
      "displayName": "Ahul K.Vidhyadaran",
      "userId": "05023894389320834244"
     },
     "user_tz": -330
    },
    "id": "hv08siAwWdy2"
   },
   "outputs": [],
   "source": [
    "# Set the image size as (img_h, img_w). Also set the index for the iamges/ frames to be used within a video\n",
    "img_h, img_w = 128, 128\n",
    "img_idx = [x for x in range(0, 30, 2)] # Alternate images index\n",
    "frames_cnt = len(img_idx)   # Number of frames per video to be considered for training"
   ]
  },
  {
   "cell_type": "code",
   "execution_count": 28,
   "metadata": {
    "executionInfo": {
     "elapsed": 14,
     "status": "ok",
     "timestamp": 1731246849234,
     "user": {
      "displayName": "Ahul K.Vidhyadaran",
      "userId": "05023894389320834244"
     },
     "user_tz": -330
    },
    "id": "5b9uvZfPWdy2"
   },
   "outputs": [],
   "source": [
    "# Instantiate the Train and Validation image Generators to be used by model.fit() method\n",
    "\n",
    "# Define the Generators to be used by CNN+RNN models which does not use the image augmentation function\n",
    "# For Conv3D models, Generators have been defined for each model\n",
    "train_generator = generator2(train_path, train_doc, batch_size, img_idx, img_h, img_w)\n",
    "val_generator = generator2(val_path, val_doc, batch_size, img_idx, img_h, img_w)\n",
    "\n",
    "# Establish other parameters for model.fit() method\n",
    "if (num_train_sequences%batch_size) == 0:\n",
    "    steps_per_epoch = int(num_train_sequences/batch_size)\n",
    "else:\n",
    "    steps_per_epoch = (num_train_sequences//batch_size) + 1\n",
    "\n",
    "if (num_val_sequences%batch_size) == 0:\n",
    "    validation_steps = int(num_val_sequences/batch_size)\n",
    "else:\n",
    "    validation_steps = (num_val_sequences//batch_size) + 1"
   ]
  },
  {
   "cell_type": "markdown",
   "metadata": {
    "id": "qhoGIUPQWdy3"
   },
   "source": [
    "### 3.2 Build & Experiment with Conv3D Architecture\n",
    "In this section we will experiment with Conv3D models by changing various parameters and select the best Conv3D model"
   ]
  },
  {
   "cell_type": "markdown",
   "metadata": {
    "id": "buN4jRPFtDG_"
   },
   "source": [
    "#### 3.2.1 Conv3D 3-Layer Model\n",
    "Create a basic Conv3D model with three Conv3D layers"
   ]
  },
  {
   "cell_type": "code",
   "execution_count": 79,
   "metadata": {
    "colab": {
     "base_uri": "https://localhost:8080/",
     "height": 449
    },
    "executionInfo": {
     "elapsed": 14,
     "status": "ok",
     "timestamp": 1731246849234,
     "user": {
      "displayName": "Ahul K.Vidhyadaran",
      "userId": "05023894389320834244"
     },
     "user_tz": -330
    },
    "id": "LwYWPia-tDG_",
    "outputId": "e254b724-527a-4e5c-e993-d6cec194d36a",
    "scrolled": true
   },
   "outputs": [
    {
     "data": {
      "text/html": [
       "<pre style=\"white-space:pre;overflow-x:auto;line-height:normal;font-family:Menlo,'DejaVu Sans Mono',consolas,'Courier New',monospace\"><span style=\"font-weight: bold\">Model: \"sequential_1\"</span>\n",
       "</pre>\n"
      ],
      "text/plain": [
       "\u001b[1mModel: \"sequential_1\"\u001b[0m\n"
      ]
     },
     "metadata": {},
     "output_type": "display_data"
    },
    {
     "data": {
      "text/html": [
       "<pre style=\"white-space:pre;overflow-x:auto;line-height:normal;font-family:Menlo,'DejaVu Sans Mono',consolas,'Courier New',monospace\">┏━━━━━━━━━━━━━━━━━━━━━━━━━━━━━━━━━━━━━━┳━━━━━━━━━━━━━━━━━━━━━━━━━━━━━┳━━━━━━━━━━━━━━━━━┓\n",
       "┃<span style=\"font-weight: bold\"> Layer (type)                         </span>┃<span style=\"font-weight: bold\"> Output Shape                </span>┃<span style=\"font-weight: bold\">         Param # </span>┃\n",
       "┡━━━━━━━━━━━━━━━━━━━━━━━━━━━━━━━━━━━━━━╇━━━━━━━━━━━━━━━━━━━━━━━━━━━━━╇━━━━━━━━━━━━━━━━━┩\n",
       "│ conv3d_4 (<span style=\"color: #0087ff; text-decoration-color: #0087ff\">Conv3D</span>)                    │ (<span style=\"color: #00d7ff; text-decoration-color: #00d7ff\">None</span>, <span style=\"color: #00af00; text-decoration-color: #00af00\">15</span>, <span style=\"color: #00af00; text-decoration-color: #00af00\">128</span>, <span style=\"color: #00af00; text-decoration-color: #00af00\">128</span>, <span style=\"color: #00af00; text-decoration-color: #00af00\">32</span>)    │           <span style=\"color: #00af00; text-decoration-color: #00af00\">2,624</span> │\n",
       "├──────────────────────────────────────┼─────────────────────────────┼─────────────────┤\n",
       "│ max_pooling3d_3 (<span style=\"color: #0087ff; text-decoration-color: #0087ff\">MaxPooling3D</span>)       │ (<span style=\"color: #00d7ff; text-decoration-color: #00d7ff\">None</span>, <span style=\"color: #00af00; text-decoration-color: #00af00\">7</span>, <span style=\"color: #00af00; text-decoration-color: #00af00\">64</span>, <span style=\"color: #00af00; text-decoration-color: #00af00\">64</span>, <span style=\"color: #00af00; text-decoration-color: #00af00\">32</span>)       │               <span style=\"color: #00af00; text-decoration-color: #00af00\">0</span> │\n",
       "├──────────────────────────────────────┼─────────────────────────────┼─────────────────┤\n",
       "│ conv3d_5 (<span style=\"color: #0087ff; text-decoration-color: #0087ff\">Conv3D</span>)                    │ (<span style=\"color: #00d7ff; text-decoration-color: #00d7ff\">None</span>, <span style=\"color: #00af00; text-decoration-color: #00af00\">7</span>, <span style=\"color: #00af00; text-decoration-color: #00af00\">64</span>, <span style=\"color: #00af00; text-decoration-color: #00af00\">64</span>, <span style=\"color: #00af00; text-decoration-color: #00af00\">64</span>)       │          <span style=\"color: #00af00; text-decoration-color: #00af00\">55,360</span> │\n",
       "├──────────────────────────────────────┼─────────────────────────────┼─────────────────┤\n",
       "│ max_pooling3d_4 (<span style=\"color: #0087ff; text-decoration-color: #0087ff\">MaxPooling3D</span>)       │ (<span style=\"color: #00d7ff; text-decoration-color: #00d7ff\">None</span>, <span style=\"color: #00af00; text-decoration-color: #00af00\">3</span>, <span style=\"color: #00af00; text-decoration-color: #00af00\">32</span>, <span style=\"color: #00af00; text-decoration-color: #00af00\">32</span>, <span style=\"color: #00af00; text-decoration-color: #00af00\">64</span>)       │               <span style=\"color: #00af00; text-decoration-color: #00af00\">0</span> │\n",
       "├──────────────────────────────────────┼─────────────────────────────┼─────────────────┤\n",
       "│ conv3d_6 (<span style=\"color: #0087ff; text-decoration-color: #0087ff\">Conv3D</span>)                    │ (<span style=\"color: #00d7ff; text-decoration-color: #00d7ff\">None</span>, <span style=\"color: #00af00; text-decoration-color: #00af00\">3</span>, <span style=\"color: #00af00; text-decoration-color: #00af00\">32</span>, <span style=\"color: #00af00; text-decoration-color: #00af00\">32</span>, <span style=\"color: #00af00; text-decoration-color: #00af00\">128</span>)      │         <span style=\"color: #00af00; text-decoration-color: #00af00\">221,312</span> │\n",
       "├──────────────────────────────────────┼─────────────────────────────┼─────────────────┤\n",
       "│ max_pooling3d_5 (<span style=\"color: #0087ff; text-decoration-color: #0087ff\">MaxPooling3D</span>)       │ (<span style=\"color: #00d7ff; text-decoration-color: #00d7ff\">None</span>, <span style=\"color: #00af00; text-decoration-color: #00af00\">1</span>, <span style=\"color: #00af00; text-decoration-color: #00af00\">16</span>, <span style=\"color: #00af00; text-decoration-color: #00af00\">16</span>, <span style=\"color: #00af00; text-decoration-color: #00af00\">128</span>)      │               <span style=\"color: #00af00; text-decoration-color: #00af00\">0</span> │\n",
       "├──────────────────────────────────────┼─────────────────────────────┼─────────────────┤\n",
       "│ flatten_1 (<span style=\"color: #0087ff; text-decoration-color: #0087ff\">Flatten</span>)                  │ (<span style=\"color: #00d7ff; text-decoration-color: #00d7ff\">None</span>, <span style=\"color: #00af00; text-decoration-color: #00af00\">32768</span>)               │               <span style=\"color: #00af00; text-decoration-color: #00af00\">0</span> │\n",
       "├──────────────────────────────────────┼─────────────────────────────┼─────────────────┤\n",
       "│ dense_2 (<span style=\"color: #0087ff; text-decoration-color: #0087ff\">Dense</span>)                      │ (<span style=\"color: #00d7ff; text-decoration-color: #00d7ff\">None</span>, <span style=\"color: #00af00; text-decoration-color: #00af00\">128</span>)                 │       <span style=\"color: #00af00; text-decoration-color: #00af00\">4,194,432</span> │\n",
       "├──────────────────────────────────────┼─────────────────────────────┼─────────────────┤\n",
       "│ dense_3 (<span style=\"color: #0087ff; text-decoration-color: #0087ff\">Dense</span>)                      │ (<span style=\"color: #00d7ff; text-decoration-color: #00d7ff\">None</span>, <span style=\"color: #00af00; text-decoration-color: #00af00\">5</span>)                   │             <span style=\"color: #00af00; text-decoration-color: #00af00\">645</span> │\n",
       "└──────────────────────────────────────┴─────────────────────────────┴─────────────────┘\n",
       "</pre>\n"
      ],
      "text/plain": [
       "┏━━━━━━━━━━━━━━━━━━━━━━━━━━━━━━━━━━━━━━┳━━━━━━━━━━━━━━━━━━━━━━━━━━━━━┳━━━━━━━━━━━━━━━━━┓\n",
       "┃\u001b[1m \u001b[0m\u001b[1mLayer (type)                        \u001b[0m\u001b[1m \u001b[0m┃\u001b[1m \u001b[0m\u001b[1mOutput Shape               \u001b[0m\u001b[1m \u001b[0m┃\u001b[1m \u001b[0m\u001b[1m        Param #\u001b[0m\u001b[1m \u001b[0m┃\n",
       "┡━━━━━━━━━━━━━━━━━━━━━━━━━━━━━━━━━━━━━━╇━━━━━━━━━━━━━━━━━━━━━━━━━━━━━╇━━━━━━━━━━━━━━━━━┩\n",
       "│ conv3d_4 (\u001b[38;5;33mConv3D\u001b[0m)                    │ (\u001b[38;5;45mNone\u001b[0m, \u001b[38;5;34m15\u001b[0m, \u001b[38;5;34m128\u001b[0m, \u001b[38;5;34m128\u001b[0m, \u001b[38;5;34m32\u001b[0m)    │           \u001b[38;5;34m2,624\u001b[0m │\n",
       "├──────────────────────────────────────┼─────────────────────────────┼─────────────────┤\n",
       "│ max_pooling3d_3 (\u001b[38;5;33mMaxPooling3D\u001b[0m)       │ (\u001b[38;5;45mNone\u001b[0m, \u001b[38;5;34m7\u001b[0m, \u001b[38;5;34m64\u001b[0m, \u001b[38;5;34m64\u001b[0m, \u001b[38;5;34m32\u001b[0m)       │               \u001b[38;5;34m0\u001b[0m │\n",
       "├──────────────────────────────────────┼─────────────────────────────┼─────────────────┤\n",
       "│ conv3d_5 (\u001b[38;5;33mConv3D\u001b[0m)                    │ (\u001b[38;5;45mNone\u001b[0m, \u001b[38;5;34m7\u001b[0m, \u001b[38;5;34m64\u001b[0m, \u001b[38;5;34m64\u001b[0m, \u001b[38;5;34m64\u001b[0m)       │          \u001b[38;5;34m55,360\u001b[0m │\n",
       "├──────────────────────────────────────┼─────────────────────────────┼─────────────────┤\n",
       "│ max_pooling3d_4 (\u001b[38;5;33mMaxPooling3D\u001b[0m)       │ (\u001b[38;5;45mNone\u001b[0m, \u001b[38;5;34m3\u001b[0m, \u001b[38;5;34m32\u001b[0m, \u001b[38;5;34m32\u001b[0m, \u001b[38;5;34m64\u001b[0m)       │               \u001b[38;5;34m0\u001b[0m │\n",
       "├──────────────────────────────────────┼─────────────────────────────┼─────────────────┤\n",
       "│ conv3d_6 (\u001b[38;5;33mConv3D\u001b[0m)                    │ (\u001b[38;5;45mNone\u001b[0m, \u001b[38;5;34m3\u001b[0m, \u001b[38;5;34m32\u001b[0m, \u001b[38;5;34m32\u001b[0m, \u001b[38;5;34m128\u001b[0m)      │         \u001b[38;5;34m221,312\u001b[0m │\n",
       "├──────────────────────────────────────┼─────────────────────────────┼─────────────────┤\n",
       "│ max_pooling3d_5 (\u001b[38;5;33mMaxPooling3D\u001b[0m)       │ (\u001b[38;5;45mNone\u001b[0m, \u001b[38;5;34m1\u001b[0m, \u001b[38;5;34m16\u001b[0m, \u001b[38;5;34m16\u001b[0m, \u001b[38;5;34m128\u001b[0m)      │               \u001b[38;5;34m0\u001b[0m │\n",
       "├──────────────────────────────────────┼─────────────────────────────┼─────────────────┤\n",
       "│ flatten_1 (\u001b[38;5;33mFlatten\u001b[0m)                  │ (\u001b[38;5;45mNone\u001b[0m, \u001b[38;5;34m32768\u001b[0m)               │               \u001b[38;5;34m0\u001b[0m │\n",
       "├──────────────────────────────────────┼─────────────────────────────┼─────────────────┤\n",
       "│ dense_2 (\u001b[38;5;33mDense\u001b[0m)                      │ (\u001b[38;5;45mNone\u001b[0m, \u001b[38;5;34m128\u001b[0m)                 │       \u001b[38;5;34m4,194,432\u001b[0m │\n",
       "├──────────────────────────────────────┼─────────────────────────────┼─────────────────┤\n",
       "│ dense_3 (\u001b[38;5;33mDense\u001b[0m)                      │ (\u001b[38;5;45mNone\u001b[0m, \u001b[38;5;34m5\u001b[0m)                   │             \u001b[38;5;34m645\u001b[0m │\n",
       "└──────────────────────────────────────┴─────────────────────────────┴─────────────────┘\n"
      ]
     },
     "metadata": {},
     "output_type": "display_data"
    },
    {
     "data": {
      "text/html": [
       "<pre style=\"white-space:pre;overflow-x:auto;line-height:normal;font-family:Menlo,'DejaVu Sans Mono',consolas,'Courier New',monospace\"><span style=\"font-weight: bold\"> Total params: </span><span style=\"color: #00af00; text-decoration-color: #00af00\">4,474,373</span> (17.07 MB)\n",
       "</pre>\n"
      ],
      "text/plain": [
       "\u001b[1m Total params: \u001b[0m\u001b[38;5;34m4,474,373\u001b[0m (17.07 MB)\n"
      ]
     },
     "metadata": {},
     "output_type": "display_data"
    },
    {
     "data": {
      "text/html": [
       "<pre style=\"white-space:pre;overflow-x:auto;line-height:normal;font-family:Menlo,'DejaVu Sans Mono',consolas,'Courier New',monospace\"><span style=\"font-weight: bold\"> Trainable params: </span><span style=\"color: #00af00; text-decoration-color: #00af00\">4,474,373</span> (17.07 MB)\n",
       "</pre>\n"
      ],
      "text/plain": [
       "\u001b[1m Trainable params: \u001b[0m\u001b[38;5;34m4,474,373\u001b[0m (17.07 MB)\n"
      ]
     },
     "metadata": {},
     "output_type": "display_data"
    },
    {
     "data": {
      "text/html": [
       "<pre style=\"white-space:pre;overflow-x:auto;line-height:normal;font-family:Menlo,'DejaVu Sans Mono',consolas,'Courier New',monospace\"><span style=\"font-weight: bold\"> Non-trainable params: </span><span style=\"color: #00af00; text-decoration-color: #00af00\">0</span> (0.00 B)\n",
       "</pre>\n"
      ],
      "text/plain": [
       "\u001b[1m Non-trainable params: \u001b[0m\u001b[38;5;34m0\u001b[0m (0.00 B)\n"
      ]
     },
     "metadata": {},
     "output_type": "display_data"
    },
    {
     "name": "stdout",
     "output_type": "stream",
     "text": [
      "None\n"
     ]
    }
   ],
   "source": [
    "# 3-Conv3D layers and Image size 128 X 128\n",
    "\n",
    "#Init default values\n",
    "num_epochs = None\n",
    "batch_size = None\n",
    "\n",
    "img_h, img_w = None, None\n",
    "img_idx = None\n",
    "frames_cnt = None\n",
    "input_shape = None\n",
    "kernel_size = None\n",
    "\n",
    "# Set key parameters\n",
    "def init_hyper_params():\n",
    "    global num_epochs, batch_size, img_h, img_w, img_idx, frames_cnt, input_shape, kernel_size\n",
    "    num_epochs = 50\n",
    "    batch_size = 32\n",
    "\n",
    "    img_h, img_w = 128, 128\n",
    "    img_idx = [x for x in range(0, 30, 2)] # Alternate images index\n",
    "    frames_cnt = len(img_idx)\n",
    "    input_shape = (frames_cnt, img_h, img_w, 3)\n",
    "    kernel_size = (3,3,3)\n",
    "\n",
    "# Define the model\n",
    "def create_conv3d_model_1():\n",
    "    model = Sequential(\n",
    "        [\n",
    "            Conv3D(filters=32, kernel_size=kernel_size, padding='same', activation='relu', input_shape=input_shape),\n",
    "            MaxPooling3D(pool_size=(2, 2, 2)),\n",
    "            Conv3D(filters=64, kernel_size=kernel_size, padding='same',  activation='relu'),\n",
    "            MaxPooling3D(pool_size=(2, 2, 2)),\n",
    "            Conv3D(filters=128, kernel_size=kernel_size, padding='same',  activation='relu'),\n",
    "            MaxPooling3D(pool_size=(2, 2, 2)),\n",
    "            Flatten(),\n",
    "            #Dense layer\n",
    "            Dense(units=128, activation='relu'),\n",
    "            Dense(units=5, activation='softmax')\n",
    "        ]\n",
    "    )\n",
    "    return model\n",
    "\n",
    "\n",
    "\n",
    "\n",
    "init_hyper_params()\n",
    "model = create_conv3d_model_1()\n",
    "\n",
    "# Compile the model\n",
    "optimiser = Adam(learning_rate=0.0001)\n",
    "model.compile(optimizer=optimiser, loss='categorical_crossentropy', metrics=['categorical_accuracy'])\n",
    "print (model_compile(model, optimiser))\n"
   ]
  },
  {
   "cell_type": "code",
   "execution_count": 80,
   "metadata": {
    "colab": {
     "base_uri": "https://localhost:8080/",
     "height": 515
    },
    "executionInfo": {
     "elapsed": 485804,
     "status": "error",
     "timestamp": 1731247335027,
     "user": {
      "displayName": "Ahul K.Vidhyadaran",
      "userId": "05023894389320834244"
     },
     "user_tz": -330
    },
    "id": "5zvKPYpotDHA",
    "outputId": "263d1c66-0482-4ba8-8f3e-a9c237d273dc",
    "scrolled": true
   },
   "outputs": [
    {
     "name": "stdout",
     "output_type": "stream",
     "text": [
      "\n",
      "Source path = /content/drive/My Drive/Learn/AI-ML/Upgrad/GestureRecognition/Project_data/train ; batch size = 32\n"
     ]
    },
    {
     "ename": "KeyboardInterrupt",
     "evalue": "",
     "output_type": "error",
     "traceback": [
      "\u001b[0;31m---------------------------------------------------------------------------\u001b[0m",
      "\u001b[0;31mKeyboardInterrupt\u001b[0m                         Traceback (most recent call last)",
      "\u001b[0;32m<ipython-input-80-7a0660c57946>\u001b[0m in \u001b[0;36m<cell line: 2>\u001b[0;34m()\u001b[0m\n\u001b[1;32m      1\u001b[0m \u001b[0mcallback_list\u001b[0m \u001b[0;34m=\u001b[0m \u001b[0mget_conv3d_callbacks\u001b[0m\u001b[0;34m(\u001b[0m\u001b[0;34m)\u001b[0m\u001b[0;34m\u001b[0m\u001b[0;34m\u001b[0m\u001b[0m\n\u001b[0;32m----> 2\u001b[0;31m \u001b[0mhistory\u001b[0m \u001b[0;34m=\u001b[0m \u001b[0mtrain_conv3d_model\u001b[0m\u001b[0;34m(\u001b[0m\u001b[0mmodel\u001b[0m\u001b[0;34m,\u001b[0m \u001b[0mcallback_list\u001b[0m\u001b[0;34m)\u001b[0m\u001b[0;34m\u001b[0m\u001b[0;34m\u001b[0m\u001b[0m\n\u001b[0m\u001b[1;32m      3\u001b[0m \u001b[0;34m\u001b[0m\u001b[0m\n\u001b[1;32m      4\u001b[0m \u001b[0;31m#Plot accuracy -loss graph\u001b[0m\u001b[0;34m\u001b[0m\u001b[0;34m\u001b[0m\u001b[0m\n\u001b[1;32m      5\u001b[0m \u001b[0mmodel_plot\u001b[0m\u001b[0;34m(\u001b[0m\u001b[0mhistory\u001b[0m\u001b[0;34m,\u001b[0m \u001b[0mnum_epochs\u001b[0m\u001b[0;34m)\u001b[0m\u001b[0;34m\u001b[0m\u001b[0;34m\u001b[0m\u001b[0m\n",
      "\u001b[0;32m<ipython-input-76-dc870024bb9f>\u001b[0m in \u001b[0;36mtrain_conv3d_model\u001b[0;34m(model, callbacks_list)\u001b[0m\n\u001b[1;32m     73\u001b[0m \u001b[0;34m\u001b[0m\u001b[0m\n\u001b[1;32m     74\u001b[0m     \u001b[0;31m#Train Model\u001b[0m\u001b[0;34m\u001b[0m\u001b[0;34m\u001b[0m\u001b[0m\n\u001b[0;32m---> 75\u001b[0;31m     history = model.fit(train_generator, steps_per_epoch=steps_per_epoch, epochs=num_epochs, verbose=1, \n\u001b[0m\u001b[1;32m     76\u001b[0m                         \u001b[0mcallbacks\u001b[0m\u001b[0;34m=\u001b[0m\u001b[0mcallbacks_list\u001b[0m\u001b[0;34m,\u001b[0m \u001b[0mvalidation_data\u001b[0m\u001b[0;34m=\u001b[0m\u001b[0mval_generator\u001b[0m\u001b[0;34m,\u001b[0m\u001b[0;34m\u001b[0m\u001b[0;34m\u001b[0m\u001b[0m\n\u001b[1;32m     77\u001b[0m                         validation_steps=validation_steps, class_weight=None, initial_epoch=0)\n",
      "\u001b[0;32m/usr/local/lib/python3.10/dist-packages/keras/src/utils/traceback_utils.py\u001b[0m in \u001b[0;36merror_handler\u001b[0;34m(*args, **kwargs)\u001b[0m\n\u001b[1;32m    115\u001b[0m         \u001b[0mfiltered_tb\u001b[0m \u001b[0;34m=\u001b[0m \u001b[0;32mNone\u001b[0m\u001b[0;34m\u001b[0m\u001b[0;34m\u001b[0m\u001b[0m\n\u001b[1;32m    116\u001b[0m         \u001b[0;32mtry\u001b[0m\u001b[0;34m:\u001b[0m\u001b[0;34m\u001b[0m\u001b[0;34m\u001b[0m\u001b[0m\n\u001b[0;32m--> 117\u001b[0;31m             \u001b[0;32mreturn\u001b[0m \u001b[0mfn\u001b[0m\u001b[0;34m(\u001b[0m\u001b[0;34m*\u001b[0m\u001b[0margs\u001b[0m\u001b[0;34m,\u001b[0m \u001b[0;34m**\u001b[0m\u001b[0mkwargs\u001b[0m\u001b[0;34m)\u001b[0m\u001b[0;34m\u001b[0m\u001b[0;34m\u001b[0m\u001b[0m\n\u001b[0m\u001b[1;32m    118\u001b[0m         \u001b[0;32mexcept\u001b[0m \u001b[0mException\u001b[0m \u001b[0;32mas\u001b[0m \u001b[0me\u001b[0m\u001b[0;34m:\u001b[0m\u001b[0;34m\u001b[0m\u001b[0;34m\u001b[0m\u001b[0m\n\u001b[1;32m    119\u001b[0m             \u001b[0mfiltered_tb\u001b[0m \u001b[0;34m=\u001b[0m \u001b[0m_process_traceback_frames\u001b[0m\u001b[0;34m(\u001b[0m\u001b[0me\u001b[0m\u001b[0;34m.\u001b[0m\u001b[0m__traceback__\u001b[0m\u001b[0;34m)\u001b[0m\u001b[0;34m\u001b[0m\u001b[0;34m\u001b[0m\u001b[0m\n",
      "\u001b[0;32m/usr/local/lib/python3.10/dist-packages/keras/src/backend/tensorflow/trainer.py\u001b[0m in \u001b[0;36mfit\u001b[0;34m(self, x, y, batch_size, epochs, verbose, callbacks, validation_split, validation_data, shuffle, class_weight, sample_weight, initial_epoch, steps_per_epoch, validation_steps, validation_batch_size, validation_freq)\u001b[0m\n\u001b[1;32m    280\u001b[0m \u001b[0;34m\u001b[0m\u001b[0m\n\u001b[1;32m    281\u001b[0m         \u001b[0;31m# Create an iterator that yields batches for one epoch.\u001b[0m\u001b[0;34m\u001b[0m\u001b[0;34m\u001b[0m\u001b[0m\n\u001b[0;32m--> 282\u001b[0;31m         epoch_iterator = TFEpochIterator(\n\u001b[0m\u001b[1;32m    283\u001b[0m             \u001b[0mx\u001b[0m\u001b[0;34m=\u001b[0m\u001b[0mx\u001b[0m\u001b[0;34m,\u001b[0m\u001b[0;34m\u001b[0m\u001b[0;34m\u001b[0m\u001b[0m\n\u001b[1;32m    284\u001b[0m             \u001b[0my\u001b[0m\u001b[0;34m=\u001b[0m\u001b[0my\u001b[0m\u001b[0;34m,\u001b[0m\u001b[0;34m\u001b[0m\u001b[0;34m\u001b[0m\u001b[0m\n",
      "\u001b[0;32m/usr/local/lib/python3.10/dist-packages/keras/src/backend/tensorflow/trainer.py\u001b[0m in \u001b[0;36m__init__\u001b[0;34m(self, distribute_strategy, *args, **kwargs)\u001b[0m\n\u001b[1;32m    625\u001b[0m \u001b[0;32mclass\u001b[0m \u001b[0mTFEpochIterator\u001b[0m\u001b[0;34m(\u001b[0m\u001b[0mEpochIterator\u001b[0m\u001b[0;34m)\u001b[0m\u001b[0;34m:\u001b[0m\u001b[0;34m\u001b[0m\u001b[0;34m\u001b[0m\u001b[0m\n\u001b[1;32m    626\u001b[0m     \u001b[0;32mdef\u001b[0m \u001b[0m__init__\u001b[0m\u001b[0;34m(\u001b[0m\u001b[0mself\u001b[0m\u001b[0;34m,\u001b[0m \u001b[0mdistribute_strategy\u001b[0m\u001b[0;34m=\u001b[0m\u001b[0;32mNone\u001b[0m\u001b[0;34m,\u001b[0m \u001b[0;34m*\u001b[0m\u001b[0margs\u001b[0m\u001b[0;34m,\u001b[0m \u001b[0;34m**\u001b[0m\u001b[0mkwargs\u001b[0m\u001b[0;34m)\u001b[0m\u001b[0;34m:\u001b[0m\u001b[0;34m\u001b[0m\u001b[0;34m\u001b[0m\u001b[0m\n\u001b[0;32m--> 627\u001b[0;31m         \u001b[0msuper\u001b[0m\u001b[0;34m(\u001b[0m\u001b[0;34m)\u001b[0m\u001b[0;34m.\u001b[0m\u001b[0m__init__\u001b[0m\u001b[0;34m(\u001b[0m\u001b[0;34m*\u001b[0m\u001b[0margs\u001b[0m\u001b[0;34m,\u001b[0m \u001b[0;34m**\u001b[0m\u001b[0mkwargs\u001b[0m\u001b[0;34m)\u001b[0m\u001b[0;34m\u001b[0m\u001b[0;34m\u001b[0m\u001b[0m\n\u001b[0m\u001b[1;32m    628\u001b[0m         \u001b[0mself\u001b[0m\u001b[0;34m.\u001b[0m\u001b[0m_distribute_strategy\u001b[0m \u001b[0;34m=\u001b[0m \u001b[0mdistribute_strategy\u001b[0m\u001b[0;34m\u001b[0m\u001b[0;34m\u001b[0m\u001b[0m\n\u001b[1;32m    629\u001b[0m         \u001b[0mdataset\u001b[0m \u001b[0;34m=\u001b[0m \u001b[0mself\u001b[0m\u001b[0;34m.\u001b[0m\u001b[0m_get_iterator\u001b[0m\u001b[0;34m(\u001b[0m\u001b[0;34m)\u001b[0m\u001b[0;34m\u001b[0m\u001b[0;34m\u001b[0m\u001b[0m\n",
      "\u001b[0;32m/usr/local/lib/python3.10/dist-packages/keras/src/trainers/epoch_iterator.py\u001b[0m in \u001b[0;36m__init__\u001b[0;34m(self, x, y, sample_weight, batch_size, steps_per_epoch, shuffle, class_weight, steps_per_execution)\u001b[0m\n\u001b[1;32m     62\u001b[0m             \u001b[0mself\u001b[0m\u001b[0;34m.\u001b[0m\u001b[0m_current_iterator\u001b[0m \u001b[0;34m=\u001b[0m \u001b[0;32mNone\u001b[0m\u001b[0;34m\u001b[0m\u001b[0;34m\u001b[0m\u001b[0m\n\u001b[1;32m     63\u001b[0m             \u001b[0mself\u001b[0m\u001b[0;34m.\u001b[0m\u001b[0m_insufficient_data\u001b[0m \u001b[0;34m=\u001b[0m \u001b[0;32mFalse\u001b[0m\u001b[0;34m\u001b[0m\u001b[0;34m\u001b[0m\u001b[0m\n\u001b[0;32m---> 64\u001b[0;31m         self.data_adapter = data_adapters.get_data_adapter(\n\u001b[0m\u001b[1;32m     65\u001b[0m             \u001b[0mx\u001b[0m\u001b[0;34m=\u001b[0m\u001b[0mx\u001b[0m\u001b[0;34m,\u001b[0m\u001b[0;34m\u001b[0m\u001b[0;34m\u001b[0m\u001b[0m\n\u001b[1;32m     66\u001b[0m             \u001b[0my\u001b[0m\u001b[0;34m=\u001b[0m\u001b[0my\u001b[0m\u001b[0;34m,\u001b[0m\u001b[0;34m\u001b[0m\u001b[0;34m\u001b[0m\u001b[0m\n",
      "\u001b[0;32m/usr/local/lib/python3.10/dist-packages/keras/src/trainers/data_adapters/__init__.py\u001b[0m in \u001b[0;36mget_data_adapter\u001b[0;34m(x, y, sample_weight, batch_size, steps_per_epoch, shuffle, class_weight)\u001b[0m\n\u001b[1;32m    110\u001b[0m                 \u001b[0;34mf\"generator inputs. Received: class_weight={class_weight}\"\u001b[0m\u001b[0;34m\u001b[0m\u001b[0;34m\u001b[0m\u001b[0m\n\u001b[1;32m    111\u001b[0m             )\n\u001b[0;32m--> 112\u001b[0;31m         \u001b[0;32mreturn\u001b[0m \u001b[0mGeneratorDataAdapter\u001b[0m\u001b[0;34m(\u001b[0m\u001b[0mx\u001b[0m\u001b[0;34m)\u001b[0m\u001b[0;34m\u001b[0m\u001b[0;34m\u001b[0m\u001b[0m\n\u001b[0m\u001b[1;32m    113\u001b[0m         \u001b[0;31m# TODO: should we warn or not?\u001b[0m\u001b[0;34m\u001b[0m\u001b[0;34m\u001b[0m\u001b[0m\n\u001b[1;32m    114\u001b[0m         \u001b[0;31m# warnings.warn(\u001b[0m\u001b[0;34m\u001b[0m\u001b[0;34m\u001b[0m\u001b[0m\n",
      "\u001b[0;32m/usr/local/lib/python3.10/dist-packages/keras/src/trainers/data_adapters/generator_data_adapter.py\u001b[0m in \u001b[0;36m__init__\u001b[0;34m(self, generator)\u001b[0m\n\u001b[1;32m     10\u001b[0m \u001b[0;34m\u001b[0m\u001b[0m\n\u001b[1;32m     11\u001b[0m     \u001b[0;32mdef\u001b[0m \u001b[0m__init__\u001b[0m\u001b[0;34m(\u001b[0m\u001b[0mself\u001b[0m\u001b[0;34m,\u001b[0m \u001b[0mgenerator\u001b[0m\u001b[0;34m)\u001b[0m\u001b[0;34m:\u001b[0m\u001b[0;34m\u001b[0m\u001b[0;34m\u001b[0m\u001b[0m\n\u001b[0;32m---> 12\u001b[0;31m         \u001b[0mfirst_batches\u001b[0m\u001b[0;34m,\u001b[0m \u001b[0mgenerator\u001b[0m \u001b[0;34m=\u001b[0m \u001b[0mpeek_and_restore\u001b[0m\u001b[0;34m(\u001b[0m\u001b[0mgenerator\u001b[0m\u001b[0;34m)\u001b[0m\u001b[0;34m\u001b[0m\u001b[0;34m\u001b[0m\u001b[0m\n\u001b[0m\u001b[1;32m     13\u001b[0m         \u001b[0mself\u001b[0m\u001b[0;34m.\u001b[0m\u001b[0mgenerator\u001b[0m \u001b[0;34m=\u001b[0m \u001b[0mgenerator\u001b[0m\u001b[0;34m\u001b[0m\u001b[0;34m\u001b[0m\u001b[0m\n\u001b[1;32m     14\u001b[0m         \u001b[0mself\u001b[0m\u001b[0;34m.\u001b[0m\u001b[0m_first_batches\u001b[0m \u001b[0;34m=\u001b[0m \u001b[0mfirst_batches\u001b[0m\u001b[0;34m\u001b[0m\u001b[0;34m\u001b[0m\u001b[0m\n",
      "\u001b[0;32m/usr/local/lib/python3.10/dist-packages/keras/src/trainers/data_adapters/generator_data_adapter.py\u001b[0m in \u001b[0;36mpeek_and_restore\u001b[0;34m(generator)\u001b[0m\n\u001b[1;32m     90\u001b[0m \u001b[0;34m\u001b[0m\u001b[0m\n\u001b[1;32m     91\u001b[0m \u001b[0;32mdef\u001b[0m \u001b[0mpeek_and_restore\u001b[0m\u001b[0;34m(\u001b[0m\u001b[0mgenerator\u001b[0m\u001b[0;34m)\u001b[0m\u001b[0;34m:\u001b[0m\u001b[0;34m\u001b[0m\u001b[0;34m\u001b[0m\u001b[0m\n\u001b[0;32m---> 92\u001b[0;31m     batches = list(\n\u001b[0m\u001b[1;32m     93\u001b[0m         itertools.islice(\n\u001b[1;32m     94\u001b[0m             \u001b[0mgenerator\u001b[0m\u001b[0;34m,\u001b[0m \u001b[0mdata_adapter_utils\u001b[0m\u001b[0;34m.\u001b[0m\u001b[0mNUM_BATCHES_FOR_TENSOR_SPEC\u001b[0m\u001b[0;34m\u001b[0m\u001b[0;34m\u001b[0m\u001b[0m\n",
      "\u001b[0;32m<ipython-input-73-cbfd7147f9a2>\u001b[0m in \u001b[0;36mgenerator\u001b[0;34m(source_path, folder_list, batch_size, img_idx, img_h, img_w)\u001b[0m\n\u001b[1;32m     27\u001b[0m                 \u001b[0mfolder_name\u001b[0m \u001b[0;34m=\u001b[0m \u001b[0mt\u001b[0m\u001b[0;34m[\u001b[0m\u001b[0mbatch\u001b[0m \u001b[0;34m*\u001b[0m \u001b[0mbatch_size\u001b[0m \u001b[0;34m+\u001b[0m \u001b[0mfolder\u001b[0m\u001b[0;34m]\u001b[0m\u001b[0;34m.\u001b[0m\u001b[0mstrip\u001b[0m\u001b[0;34m(\u001b[0m\u001b[0;34m)\u001b[0m\u001b[0;34m.\u001b[0m\u001b[0msplit\u001b[0m\u001b[0;34m(\u001b[0m\u001b[0;34m';'\u001b[0m\u001b[0;34m)\u001b[0m\u001b[0;34m[\u001b[0m\u001b[0;36m0\u001b[0m\u001b[0;34m]\u001b[0m\u001b[0;34m\u001b[0m\u001b[0;34m\u001b[0m\u001b[0m\n\u001b[1;32m     28\u001b[0m                 \u001b[0mlabel\u001b[0m \u001b[0;34m=\u001b[0m \u001b[0mint\u001b[0m\u001b[0;34m(\u001b[0m\u001b[0mt\u001b[0m\u001b[0;34m[\u001b[0m\u001b[0mbatch\u001b[0m \u001b[0;34m*\u001b[0m \u001b[0mbatch_size\u001b[0m \u001b[0;34m+\u001b[0m \u001b[0mfolder\u001b[0m\u001b[0;34m]\u001b[0m\u001b[0;34m.\u001b[0m\u001b[0mstrip\u001b[0m\u001b[0;34m(\u001b[0m\u001b[0;34m)\u001b[0m\u001b[0;34m.\u001b[0m\u001b[0msplit\u001b[0m\u001b[0;34m(\u001b[0m\u001b[0;34m';'\u001b[0m\u001b[0;34m)\u001b[0m\u001b[0;34m[\u001b[0m\u001b[0;36m2\u001b[0m\u001b[0;34m]\u001b[0m\u001b[0;34m)\u001b[0m\u001b[0;34m\u001b[0m\u001b[0;34m\u001b[0m\u001b[0m\n\u001b[0;32m---> 29\u001b[0;31m                 \u001b[0mimgs\u001b[0m \u001b[0;34m=\u001b[0m \u001b[0msorted\u001b[0m\u001b[0;34m(\u001b[0m\u001b[0mos\u001b[0m\u001b[0;34m.\u001b[0m\u001b[0mlistdir\u001b[0m\u001b[0;34m(\u001b[0m\u001b[0mos\u001b[0m\u001b[0;34m.\u001b[0m\u001b[0mpath\u001b[0m\u001b[0;34m.\u001b[0m\u001b[0mjoin\u001b[0m\u001b[0;34m(\u001b[0m\u001b[0msource_path\u001b[0m\u001b[0;34m,\u001b[0m \u001b[0mfolder_name\u001b[0m\u001b[0;34m)\u001b[0m\u001b[0;34m)\u001b[0m\u001b[0;34m)\u001b[0m\u001b[0;34m\u001b[0m\u001b[0;34m\u001b[0m\u001b[0m\n\u001b[0m\u001b[1;32m     30\u001b[0m                 \u001b[0;32mfor\u001b[0m \u001b[0midx\u001b[0m\u001b[0;34m,\u001b[0m \u001b[0mitem\u001b[0m \u001b[0;32min\u001b[0m \u001b[0menumerate\u001b[0m\u001b[0;34m(\u001b[0m\u001b[0mimg_idx\u001b[0m\u001b[0;34m)\u001b[0m\u001b[0;34m:\u001b[0m\u001b[0;34m\u001b[0m\u001b[0;34m\u001b[0m\u001b[0m\n\u001b[1;32m     31\u001b[0m                     \u001b[0;32mif\u001b[0m \u001b[0mitem\u001b[0m \u001b[0;34m>=\u001b[0m \u001b[0mlen\u001b[0m\u001b[0;34m(\u001b[0m\u001b[0mimgs\u001b[0m\u001b[0;34m)\u001b[0m\u001b[0;34m:\u001b[0m\u001b[0;34m\u001b[0m\u001b[0;34m\u001b[0m\u001b[0m\n",
      "\u001b[0;31mKeyboardInterrupt\u001b[0m: "
     ]
    }
   ],
   "source": [
    "\n",
    "callback_list = get_conv3d_callbacks()\n",
    "history = train_conv3d_model(model, callback_list)\n",
    "\n",
    "#Plot accuracy -loss graph\n",
    "model_plot(history, num_epochs)"
   ]
  },
  {
   "cell_type": "markdown",
   "metadata": {
    "id": "192gliR4Wdy3"
   },
   "source": [
    "#### **Observations:**\n",
    "The model underfits with training and validation accuracies at 0.53 and 0.47 respectively"
   ]
  },
  {
   "cell_type": "markdown",
   "metadata": {
    "id": "IAaRhyQyWdy4",
    "jp-MarkdownHeadingCollapsed": true
   },
   "source": [
    "#### 3.2.2 Conv3D 4-Layer Base Model\n",
    "Add another 4th Conv3D layer to the basic model"
   ]
  },
  {
   "cell_type": "code",
   "execution_count": null,
   "metadata": {
    "executionInfo": {
     "elapsed": 39,
     "status": "aborted",
     "timestamp": 1731247335028,
     "user": {
      "displayName": "Ahul K.Vidhyadaran",
      "userId": "05023894389320834244"
     },
     "user_tz": -330
    },
    "id": "qF19rd83Wdy4",
    "scrolled": true
   },
   "outputs": [],
   "source": [
    "# 4-Conv3D layers and Image size 128 x 128\n",
    "\n",
    "# Set key parameters\n",
    "def int_hyper_params_conv3d_model2():\n",
    "    global num_epochs, batch_size, img_h, img_w, img_idx, frames_cnt, input_shape, kernel_size\n",
    "    batch_size = 32\n",
    "    num_epochs = 50\n",
    "\n",
    "    img_h, img_w = 128, 128\n",
    "    img_idx = [x for x in range(30)]\n",
    "    frames_cnt = len(img_idx)\n",
    "    input_shape = (frames_cnt, img_h, img_w, 3)\n",
    "    kernel_size = (3,3,3)\n",
    "\n",
    "# Define the model\n",
    "def create_conv3d_model2():\n",
    "    model_2 = Sequential(\n",
    "        [\n",
    "            Conv3D(filters=32, kernel_size=kernel_size, padding='same', activation='relu', input_shape=input_shape),\n",
    "            MaxPooling3D(pool_size=(2, 2, 2)),\n",
    "            Conv3D(filters=64, kernel_size=kernel_size, padding='same',  activation='relu'),\n",
    "            MaxPooling3D(pool_size=(2, 2, 2)),\n",
    "            Conv3D(filters=128, kernel_size=kernel_size, padding='same',  activation='relu'),\n",
    "            MaxPooling3D(pool_size=(2, 2, 2)),\n",
    "            Conv3D(filters=256, kernel_size=kernel_size, padding='same',  activation='relu'),\n",
    "            MaxPooling3D(pool_size=(2, 2, 2)),\n",
    "            Flatten(),\n",
    "            #Dense layers\n",
    "            Dense(units=256, activation='relu'),\n",
    "            Dense(units=128, activation='relu'),\n",
    "            Dense(units=5, activation='softmax')\n",
    "        ]\n",
    "    )\n",
    "    return model_2\n",
    "\n",
    "#Initialize hyper parameters\n",
    "int_hyper_params_conv3d_model2()\n",
    "#Create model\n",
    "model  = create_conv3d_model2()\n",
    "# Compile the model\n",
    "optimiser = Adam(learning_rate=0.001) # model was not converging in the previous step bz of learning rate .0001\n",
    "print (model_compile(model, optimiser))\n",
    "\n"
   ]
  },
  {
   "cell_type": "code",
   "execution_count": null,
   "metadata": {
    "executionInfo": {
     "elapsed": 37,
     "status": "aborted",
     "timestamp": 1731247335028,
     "user": {
      "displayName": "Ahul K.Vidhyadaran",
      "userId": "05023894389320834244"
     },
     "user_tz": -330
    },
    "id": "RsIJ8BhqWdy4",
    "scrolled": true
   },
   "outputs": [],
   "source": [
    "callback_list = get_conv3d_callbacks()\n",
    "history = train_conv3d_model(model, callback_list)\n",
    "\n",
    "#Plot accuracy -loss graph\n",
    "model_plot(history, num_epochs)"
   ]
  },
  {
   "cell_type": "markdown",
   "metadata": {
    "id": "RddWJs9SWdy4"
   },
   "source": [
    "#### **Observations:**\n",
    "Model overfitting - Training accuracy : 0.98, Validation Accuracy : 0.65"
   ]
  },
  {
   "cell_type": "markdown",
   "metadata": {
    "id": "b3HHvp7iWdy4",
    "jp-MarkdownHeadingCollapsed": true
   },
   "source": [
    "#### 3.2.3 Conv3D 4-Layer Model with Dropouts\n",
    "\n",
    "Add Dropout layers (0.2) after Dense layers to prevent overfitting."
   ]
  },
  {
   "cell_type": "code",
   "execution_count": null,
   "metadata": {
    "executionInfo": {
     "elapsed": 35,
     "status": "aborted",
     "timestamp": 1731247335028,
     "user": {
      "displayName": "Ahul K.Vidhyadaran",
      "userId": "05023894389320834244"
     },
     "user_tz": -330
    },
    "id": "GQh0OhQzWdy5",
    "scrolled": true
   },
   "outputs": [],
   "source": [
    "# 4-Conv3D layers and Image size 128 x 128\n",
    "\n",
    "# Set key parameters\n",
    "def int_hyper_params_conv3d_model3():\n",
    "    global num_epochs, batch_size, img_h, img_w, img_idx, frames_cnt, input_shape, kernel_size\n",
    "    batch_size = 32\n",
    "    num_epochs = 50\n",
    "\n",
    "    img_h, img_w = 128, 128\n",
    "    img_idx = [x for x in range(30)]\n",
    "    frames_cnt = len(img_idx)\n",
    "    input_shape = (frames_cnt, img_h, img_w, 3)\n",
    "    kernel_size = (3,3,3)\n",
    "\n",
    "# Define the model\n",
    "def create_conv3d_model3():\n",
    "    model_3 = Sequential(\n",
    "        [\n",
    "\n",
    "            Conv3D(filters=32, kernel_size=kernel_size, padding='same', activation='relu', input_shape=input_shape),\n",
    "            MaxPooling3D(pool_size=(2, 2, 2)),\n",
    "            Conv3D(filters=64, kernel_size=kernel_size, padding='same',  activation='relu'),\n",
    "            MaxPooling3D(pool_size=(2, 2, 2)),\n",
    "            Conv3D(filters=128, kernel_size=kernel_size, padding='same',  activation='relu'),\n",
    "            MaxPooling3D(pool_size=(2, 2, 2)),\n",
    "            Conv3D(filters=256, kernel_size=kernel_size, padding='same',  activation='relu'),\n",
    "            MaxPooling3D(pool_size=(2, 2, 2)),\n",
    "            Flatten(),\n",
    "            #Dense layers\n",
    "            Dense(units=256, activation='relu'),\n",
    "            Dropout(0.2),\n",
    "            Dense(units=128, activation='relu'),\n",
    "            Dropout(0.2),\n",
    "            Dense(units=5, activation='softmax')\n",
    "        ]\n",
    "    )\n",
    "    return model_3\n",
    "\n",
    "# Compile the model\n",
    "int_hyper_params_conv3d_model3()\n",
    "model = create_conv3d_model3()\n",
    "optimiser = Adam(learning_rate=0.001) # model was not converging in the previous step bz of learning rate .0001\n",
    "print (model_compile(model, optimiser))\n"
   ]
  },
  {
   "cell_type": "code",
   "execution_count": null,
   "metadata": {
    "executionInfo": {
     "elapsed": 34,
     "status": "aborted",
     "timestamp": 1731247335028,
     "user": {
      "displayName": "Ahul K.Vidhyadaran",
      "userId": "05023894389320834244"
     },
     "user_tz": -330
    },
    "id": "EVl_MoalWdy5",
    "scrolled": true
   },
   "outputs": [],
   "source": [
    "callback_list = get_conv3d_callbacks()\n",
    "history = train_conv3d_model(model, callback_list)\n",
    "\n",
    "#Plot accuracy -loss graph\n",
    "model_plot(history, num_epochs)"
   ]
  },
  {
   "cell_type": "markdown",
   "metadata": {
    "id": "TFk--uoPWdy5",
    "jp-MarkdownHeadingCollapsed": true
   },
   "source": [
    "#### **Observations:**\n",
    "Model training accuracy got reduced by adding Dropout layer - Training accuracy : 0.69\n",
    "Validation Accuracy : 0.58"
   ]
  },
  {
   "cell_type": "markdown",
   "metadata": {
    "id": "ZC4DxGw-Wdy5"
   },
   "source": [
    "#### 3.2.4 Conv3D 4-Layer Model with Batch Normalisation\n",
    "\n",
    "Add Batch Normalisation in each Conv3D layer to improve training speed and stability"
   ]
  },
  {
   "cell_type": "code",
   "execution_count": null,
   "metadata": {
    "executionInfo": {
     "elapsed": 34,
     "status": "aborted",
     "timestamp": 1731247335029,
     "user": {
      "displayName": "Ahul K.Vidhyadaran",
      "userId": "05023894389320834244"
     },
     "user_tz": -330
    },
    "id": "Pcsv4O1sWdy5",
    "scrolled": true
   },
   "outputs": [],
   "source": [
    "# 4 Conv3D layers and normalization\n",
    "\n",
    "# Set key parameters\n",
    "def int_hyper_params_conv3d_model4():\n",
    "    global num_epochs, batch_size, img_h, img_w, img_idx, frames_cnt, input_shape, kernel_size\n",
    "    batch_size = 16\n",
    "    num_epochs = 30\n",
    "\n",
    "    img_h, img_w = 112, 112\n",
    "    img_idx = [x for x in range(0, 30, 2)]\n",
    "    frames_cnt = len(img_idx)\n",
    "    input_shape = (frames_cnt, img_h, img_w, 3)\n",
    "    kernel_size = (3,3,3)\n",
    "\n",
    "# Define the model\n",
    "def create_conv3d_model4():\n",
    "    model_4 = Sequential([\n",
    "        Conv3D(filters=64, kernel_size=kernel_size, padding='same', activation='relu', input_shape=input_shape),\n",
    "        BatchNormalization(),\n",
    "        MaxPooling3D(pool_size=(1, 2, 2), strides=(1, 2, 2), padding='valid'),  # Pool only spatial dimensions\n",
    "\n",
    "        Conv3D(filters=128, kernel_size=kernel_size, padding='same', activation='relu'),\n",
    "        BatchNormalization(),\n",
    "        MaxPooling3D(pool_size=(1, 2, 2), strides=(2, 2, 2), padding='valid'),\n",
    "\n",
    "        Conv3D(filters=256, kernel_size=kernel_size, padding='same', activation='relu'),\n",
    "        BatchNormalization(),\n",
    "        MaxPooling3D(pool_size=(1, 2, 2), strides=(2, 2, 2), padding='valid'),\n",
    "\n",
    "        Conv3D(filters=512, kernel_size=kernel_size, padding='same', activation='relu'),\n",
    "        BatchNormalization(),\n",
    "        MaxPooling3D(pool_size=(1, 2, 2), strides=(1, 2, 2), padding='valid'),  # Pool only spatial dimensions\n",
    "\n",
    "        Flatten(),\n",
    "        Dense(units=512, activation='relu'),\n",
    "        Dropout(0.5),\n",
    "        Dense(units=256, activation='relu'),\n",
    "        Dropout(0.5),\n",
    "        Dense(units=5, activation='softmax')\n",
    "    ])\n",
    "    return model_4\n",
    "\n",
    "\n",
    "int_hyper_params_conv3d_model4()\n",
    "model = create_conv3d_model4()\n",
    "\n",
    "# Compile the model\n",
    "optimiser = Adam(learning_rate=0.0001)\n",
    "print (model_compile(model, optimiser))"
   ]
  },
  {
   "cell_type": "code",
   "execution_count": null,
   "metadata": {
    "executionInfo": {
     "elapsed": 33,
     "status": "aborted",
     "timestamp": 1731247335029,
     "user": {
      "displayName": "Ahul K.Vidhyadaran",
      "userId": "05023894389320834244"
     },
     "user_tz": -330
    },
    "id": "xTBTkgWcWdy6",
    "scrolled": true
   },
   "outputs": [],
   "source": [
    "callback_list = get_conv3d_callbacks()\n",
    "history = train_conv3d_model(model, callback_list)\n",
    "\n",
    "#Plot accuracy -loss graph\n",
    "model_plot(history, num_epochs)"
   ]
  },
  {
   "cell_type": "markdown",
   "metadata": {
    "id": "uMSovvMJWdy6"
   },
   "source": [
    "#### **Observations:**\n",
    "Model training accuracy got reduced further by increasing the filter count -  Training accuracy : 0.60\n",
    "Validation Accuracy : 0.49"
   ]
  },
  {
   "cell_type": "markdown",
   "metadata": {
    "id": "3YdxQksntDHA",
    "jp-MarkdownHeadingCollapsed": true
   },
   "source": [
    "#### 3.2.5 Conv3D 4-Layer Model with L2 Regularisation\n",
    "\n",
    "Add L2 Regularisers to each Conv3D layer to penalise large weights to prevent overfitting"
   ]
  },
  {
   "cell_type": "code",
   "execution_count": null,
   "metadata": {
    "executionInfo": {
     "elapsed": 32,
     "status": "aborted",
     "timestamp": 1731247335029,
     "user": {
      "displayName": "Ahul K.Vidhyadaran",
      "userId": "05023894389320834244"
     },
     "user_tz": -330
    },
    "id": "LH35A66ttDHA",
    "scrolled": true
   },
   "outputs": [],
   "source": [
    "# Updated parameters\n",
    "\n",
    "# Set key parameters\n",
    "def int_hyper_params_conv3d_model5():\n",
    "    global num_epochs, batch_size, img_h, img_w, img_idx, frames_cnt, input_shape, kernel_size\n",
    "    batch_size = 32\n",
    "    num_epochs = 50\n",
    "\n",
    "    img_h, img_w = 128, 128\n",
    "    img_idx = [x for x in range(30)]\n",
    "    frames_cnt = len(img_idx)\n",
    "    input_shape = (frames_cnt, img_h, img_w, 3)\n",
    "    kernel_size = (3,3,3)\n",
    "\n",
    "\n",
    "def create_conv3d_model5():\n",
    "    # Define weight regularizer\n",
    "    weight_regularizer = regularizers.l2(0.0005)\n",
    "\n",
    "    # Define the model\n",
    "    model_5 = Sequential([\n",
    "\n",
    "            Conv3D(filters=32, kernel_size=kernel_size, padding='same', activation='relu', input_shape=input_shape, kernel_regularizer=weight_regularizer),\n",
    "            BatchNormalization(),\n",
    "            MaxPooling3D(pool_size=(2, 2, 2)),\n",
    "            Conv3D(filters=64, kernel_size=kernel_size, padding='same',  activation='relu', kernel_regularizer=weight_regularizer),\n",
    "            BatchNormalization(),\n",
    "            MaxPooling3D(pool_size=(2, 2, 2)),\n",
    "            Conv3D(filters=128, kernel_size=kernel_size, padding='same',  activation='relu', kernel_regularizer=weight_regularizer),\n",
    "            BatchNormalization(),\n",
    "            MaxPooling3D(pool_size=(2, 2, 2)),\n",
    "            Conv3D(filters=256, kernel_size=kernel_size, padding='same',  activation='relu', kernel_regularizer=weight_regularizer),\n",
    "            BatchNormalization(),\n",
    "            MaxPooling3D(pool_size=(2, 2, 2)),\n",
    "            Flatten(),\n",
    "            #Dense layers\n",
    "            Dense(units=256, activation='relu'),\n",
    "            BatchNormalization(),\n",
    "            Dropout(0.4),\n",
    "            BatchNormalization(),\n",
    "            Dense(units=128, activation='relu'),\n",
    "            BatchNormalization(),\n",
    "            Dropout(0.4),\n",
    "            Dense(units=5, activation='softmax')\n",
    "\n",
    "    ])\n",
    "    return model_5\n",
    "\n",
    "\n",
    "int_hyper_params_conv3d_model5()\n",
    "model = create_conv3d_model5()\n",
    "\n",
    "# Compile the model\n",
    "optimiser = Adam(learning_rate=0.0001)\n",
    "print (model_compile(model, optimiser))\n",
    "\n"
   ]
  },
  {
   "cell_type": "code",
   "execution_count": null,
   "metadata": {
    "executionInfo": {
     "elapsed": 32,
     "status": "aborted",
     "timestamp": 1731247335029,
     "user": {
      "displayName": "Ahul K.Vidhyadaran",
      "userId": "05023894389320834244"
     },
     "user_tz": -330
    },
    "id": "2k9baFHftDHA",
    "scrolled": true
   },
   "outputs": [],
   "source": [
    "#Add Early stopping to save training time\n",
    "def get_conv3d_model_5_callback(early_stop_patience = 5):\n",
    "\n",
    "    # Set-up for saving model execution weights\n",
    "    model_name = 'model_init' + '_' + str(curr_dt_time).replace(' ','').replace(':','_') + '/'\n",
    "\n",
    "    if not os.path.exists(model_name):\n",
    "        os.mkdir(model_name)\n",
    "\n",
    "    filepath = model_name + 'model-{epoch:05d}-{loss:.5f}-{categorical_accuracy:.5f}-{val_loss:.5f}-{val_categorical_accuracy:.5f}.keras'\n",
    "\n",
    "    # Callbacks\n",
    "    checkpoint = ModelCheckpoint(filepath,\n",
    "                                 monitor='val_loss',\n",
    "                                 verbose=1,\n",
    "                                 save_best_only=True,\n",
    "                                 save_weights_only=False,\n",
    "                                 mode='auto')\n",
    "\n",
    "    LR = ReduceLROnPlateau(\n",
    "        monitor='val_loss',     # Monitor the validation loss\n",
    "        factor=0.1,             # Reduce the learning rate by a factor of 0.1 (new_lr = old_lr * factor)\n",
    "        patience=5,            # Number of epochs with no improvement after which the learning rate will be reduced\n",
    "        min_lr=1e-6,            # Minimum learning rate that the model will reduce to\n",
    "        verbose=1               # Print messages when learning rate is reduced\n",
    "    )\n",
    "    early_stopping = EarlyStopping(monitor='val_loss', patience=early_stop_patience, restore_best_weights=True)\n",
    "    callbacks_list = [checkpoint, LR, early_stopping]\n",
    "    return callbacks_list\n",
    "\n",
    "callbacks_list = get_conv3d_model_5_callback()\n",
    "history = train_conv3d_model(model, callback_list)\n",
    "\n",
    "#Plot accuracy -loss graph\n",
    "model_plot(history, num_epochs)"
   ]
  },
  {
   "cell_type": "markdown",
   "metadata": {
    "id": "lMEi7x9JWdzA"
   },
   "source": [
    "#### **Observations:**\n",
    "Accuracy and consistency of the model increased by adding Batchnormalisation and l2 regulariser in conv3d layer - Training accuracy : 0.80\n",
    "Validation Accuracy : 0.84"
   ]
  },
  {
   "cell_type": "markdown",
   "metadata": {
    "id": "7Z60BKrJWdzA",
    "jp-MarkdownHeadingCollapsed": true
   },
   "source": [
    "#### 3.2.6 Conv3D 4-Layer Model with Increased Dropouts\n",
    "\n",
    "Increase Dropout to 0.5 for stronger overfit prevention"
   ]
  },
  {
   "cell_type": "code",
   "execution_count": null,
   "metadata": {
    "executionInfo": {
     "elapsed": 32,
     "status": "aborted",
     "timestamp": 1731247335030,
     "user": {
      "displayName": "Ahul K.Vidhyadaran",
      "userId": "05023894389320834244"
     },
     "user_tz": -330
    },
    "id": "sStocmHqWdzA"
   },
   "outputs": [],
   "source": [
    "\n",
    "def create_conv3d_model6():\n",
    "\n",
    "    # Define weight regularizer\n",
    "    weight_regularizer = regularizers.l2(0.0005)\n",
    "\n",
    "    # Define the model\n",
    "    model_6 = Sequential([\n",
    "\n",
    "            Conv3D(filters=32, kernel_size=kernel_size, padding='same', activation='relu', input_shape=input_shape, kernel_regularizer=weight_regularizer),\n",
    "            BatchNormalization(),\n",
    "            MaxPooling3D(pool_size=(2, 2, 2)),\n",
    "            Conv3D(filters=64, kernel_size=kernel_size, padding='same',  activation='relu', kernel_regularizer=weight_regularizer),\n",
    "            BatchNormalization(),\n",
    "            MaxPooling3D(pool_size=(2, 2, 2)),\n",
    "            Conv3D(filters=128, kernel_size=kernel_size, padding='same',  activation='relu', kernel_regularizer=weight_regularizer),\n",
    "            BatchNormalization(),\n",
    "            MaxPooling3D(pool_size=(2, 2, 2)),\n",
    "            Conv3D(filters=256, kernel_size=kernel_size, padding='same',  activation='relu', kernel_regularizer=weight_regularizer),\n",
    "            BatchNormalization(),\n",
    "            MaxPooling3D(pool_size=(2, 2, 2)),\n",
    "            Flatten(),\n",
    "            #Dense layers\n",
    "            Dense(units=256, activation='relu'),\n",
    "            BatchNormalization(),\n",
    "            Dropout(0.5),\n",
    "            BatchNormalization(),\n",
    "            Dense(units=128, activation='relu'),\n",
    "            BatchNormalization(),\n",
    "            Dropout(0.5),\n",
    "            Dense(units=5, activation='softmax')\n",
    "\n",
    "    ])\n",
    "    return model_6\n",
    "\n",
    "\n",
    "#using the same hyperparameters of Model-5\n",
    "model = create_conv3d_model6()\n",
    "\n",
    "# Compile the model\n",
    "optimiser = Adam(learning_rate=0.0001)\n",
    "print (model_compile(model, optimiser))\n"
   ]
  },
  {
   "cell_type": "code",
   "execution_count": null,
   "metadata": {
    "executionInfo": {
     "elapsed": 31,
     "status": "aborted",
     "timestamp": 1731247335030,
     "user": {
      "displayName": "Ahul K.Vidhyadaran",
      "userId": "05023894389320834244"
     },
     "user_tz": -330
    },
    "id": "O5ni9mObWdzA",
    "scrolled": true
   },
   "outputs": [],
   "source": [
    "#Using the same callbacks as Model 5\n",
    "callbacks_list = get_conv3d_model_5_callback(10)\n",
    "history = train_conv3d_model(model, callback_list)\n",
    "\n",
    "#Plot accuracy -loss graph\n",
    "model_plot(history, num_epochs)"
   ]
  },
  {
   "cell_type": "markdown",
   "metadata": {
    "id": "56Fdzj2_WdzA"
   },
   "source": [
    "#### **Observations:**\n",
    "Increasing the Dropout to .5 reduced the model accuracy - Training accuracy : 0.65\n",
    "Validation Accuracy : 0.60\n"
   ]
  },
  {
   "cell_type": "markdown",
   "metadata": {
    "id": "BM10_pqcWdzB"
   },
   "source": [
    "### 3.3 Build & Experiment with CNN+RNN Architecture\n",
    "\n",
    "In this section we will experiment with CNN+RNN models by changing various parameters and select the best CNN+RNN model"
   ]
  },
  {
   "cell_type": "code",
   "execution_count": 30,
   "metadata": {},
   "outputs": [],
   "source": [
    "# Reset the image size as (img_h, img_w). Also set the index for the iamges/ frames to be used within a video\n",
    "img_h, img_w = 64, 64\n",
    "img_idx = [x for x in range(0, 30, 2)] # Alternate images index\n",
    "frames_cnt = len(img_idx)   # Number of frames per video to be considered for training\n",
    "\n",
    "# Reset the execution parameters\n",
    "batch_size = 32\n",
    "num_epochs = 20"
   ]
  },
  {
   "cell_type": "code",
   "execution_count": 31,
   "metadata": {},
   "outputs": [],
   "source": [
    "# Instantiate the Train and Validation image Generators to be used by model.fit() method\n",
    "\n",
    "# Define the Generators to be used by CNN+RNN models which does not use the image augmentation function\n",
    "train_generator = generator2(train_path, train_doc, batch_size, img_idx, img_h, img_w)\n",
    "val_generator = generator2(val_path, val_doc, batch_size, img_idx, img_h, img_w)\n",
    "\n",
    "# Establish other parameters for model.fit() method\n",
    "if (num_train_sequences%batch_size) == 0:\n",
    "    steps_per_epoch = int(num_train_sequences/batch_size)\n",
    "else:\n",
    "    steps_per_epoch = (num_train_sequences//batch_size) + 1\n",
    "\n",
    "if (num_val_sequences%batch_size) == 0:\n",
    "    validation_steps = int(num_val_sequences/batch_size)\n",
    "else:\n",
    "    validation_steps = (num_val_sequences//batch_size) + 1"
   ]
  },
  {
   "cell_type": "markdown",
   "metadata": {
    "id": "7kyi1a-KWdzB"
   },
   "source": [
    "#### 3.3.1 Basic CNN-GRU Model\n",
    "\n",
    "Create a 3-layer Conv2D CNN model and feed it to a RNN with GRU gate"
   ]
  },
  {
   "cell_type": "code",
   "execution_count": 20,
   "metadata": {
    "executionInfo": {
     "elapsed": 31,
     "status": "aborted",
     "timestamp": 1731247335030,
     "user": {
      "displayName": "Ahul K.Vidhyadaran",
      "userId": "05023894389320834244"
     },
     "user_tz": -330
    },
    "id": "DS3bf6GNWdzB"
   },
   "outputs": [
    {
     "name": "stderr",
     "output_type": "stream",
     "text": [
      "2024-11-11 08:14:37.127785: W tensorflow/core/common_runtime/gpu/gpu_bfc_allocator.cc:39] Overriding allow_growth setting because the TF_FORCE_GPU_ALLOW_GROWTH environment variable is set. Original config value was 0.\n",
      "2024-11-11 08:14:37.127849: I tensorflow/core/common_runtime/gpu/gpu_device.cc:1525] Created device /job:localhost/replica:0/task:0/device:GPU:0 with 14800 MB memory:  -> device: 0, name: Quadro RTX 5000, pci bus id: 0000:41:00.0, compute capability: 7.5\n"
     ]
    }
   ],
   "source": [
    "# Define a 3-Layer Conv2D CNN+RNN Model with GRU gate\n",
    "\n",
    "input_shape = (img_h, img_w, 3)\n",
    "\n",
    "cnn = Sequential()\n",
    "cnn.add(Conv2D(32, (3, 3), padding='same', input_shape=input_shape))\n",
    "cnn.add(Activation('relu'))\n",
    "\n",
    "cnn.add(Conv2D(64, (3, 3), padding='same'))\n",
    "cnn.add(Activation('relu'))\n",
    "cnn.add(MaxPooling2D(pool_size=(2,2)))\n",
    "\n",
    "cnn.add(Conv2D(128, (3, 3), padding='same'))\n",
    "cnn.add(Activation('relu'))\n",
    "cnn.add(MaxPooling2D(pool_size=(2,2)))\n",
    "\n",
    "cnn.add(Flatten())\n",
    "cnn.add(Dense(64, activation='relu'))\n",
    "\n",
    "# Create the GRU RNN model and add CNN model to it\n",
    "input_shape = (frames_cnt, img_h, img_w, 3)\n",
    "\n",
    "model = Sequential()\n",
    "model.add(TimeDistributed(cnn, input_shape=input_shape))\n",
    "model.add(GRU(64))\n",
    "model.add(Dense(5, activation='softmax'))"
   ]
  },
  {
   "cell_type": "code",
   "execution_count": 21,
   "metadata": {
    "executionInfo": {
     "elapsed": 30,
     "status": "aborted",
     "timestamp": 1731247335030,
     "user": {
      "displayName": "Ahul K.Vidhyadaran",
      "userId": "05023894389320834244"
     },
     "user_tz": -330
    },
    "id": "xQa1wly0WdzB",
    "scrolled": true
   },
   "outputs": [
    {
     "name": "stdout",
     "output_type": "stream",
     "text": [
      "Model: \"sequential_1\"\n",
      "_________________________________________________________________\n",
      " Layer (type)                Output Shape              Param #   \n",
      "=================================================================\n",
      " time_distributed (TimeDistr  (None, 15, 64)           2190464   \n",
      " ibuted)                                                         \n",
      "                                                                 \n",
      " gru (GRU)                   (None, 64)                24960     \n",
      "                                                                 \n",
      " dense_1 (Dense)             (None, 5)                 325       \n",
      "                                                                 \n",
      "=================================================================\n",
      "Total params: 2,215,749\n",
      "Trainable params: 2,215,749\n",
      "Non-trainable params: 0\n",
      "_________________________________________________________________\n",
      "None\n",
      "\n",
      "Source path = /home/datasets/Project_data/train ; batch size = 32\n",
      "Epoch 1/5\n"
     ]
    },
    {
     "name": "stderr",
     "output_type": "stream",
     "text": [
      "2024-11-11 08:14:41.665477: I tensorflow/stream_executor/cuda/cuda_dnn.cc:377] Loaded cuDNN version 8302\n"
     ]
    },
    {
     "name": "stdout",
     "output_type": "stream",
     "text": [
      "21/21 [==============================] - ETA: 0s - loss: 1.6286 - categorical_accuracy: 0.1961\n",
      "Source path = /home/datasets/Project_data/val ; batch size = 32\n",
      "\n",
      "Epoch 00001: val_loss improved from inf to 1.55956, saving model to model_basic_cnn_gru_2024-11-1108_14_37.400925/model-00001-1.62857-0.19608-1.55956-0.18000.keras\n",
      "21/21 [==============================] - 44s 2s/step - loss: 1.6286 - categorical_accuracy: 0.1961 - val_loss: 1.5596 - val_categorical_accuracy: 0.1800 - lr: 0.0010\n",
      "Epoch 2/5\n",
      "21/21 [==============================] - ETA: 0s - loss: 1.4890 - categorical_accuracy: 0.3318\n",
      "Epoch 00002: val_loss improved from 1.55956 to 1.44765, saving model to model_basic_cnn_gru_2024-11-1108_14_37.400925/model-00002-1.48903-0.33183-1.44765-0.27000.keras\n",
      "21/21 [==============================] - 39s 2s/step - loss: 1.4890 - categorical_accuracy: 0.3318 - val_loss: 1.4476 - val_categorical_accuracy: 0.2700 - lr: 0.0010\n",
      "Epoch 3/5\n",
      "21/21 [==============================] - ETA: 0s - loss: 1.2674 - categorical_accuracy: 0.4811\n",
      "Epoch 00003: val_loss improved from 1.44765 to 1.08020, saving model to model_basic_cnn_gru_2024-11-1108_14_37.400925/model-00003-1.26736-0.48115-1.08020-0.55000.keras\n",
      "21/21 [==============================] - 39s 2s/step - loss: 1.2674 - categorical_accuracy: 0.4811 - val_loss: 1.0802 - val_categorical_accuracy: 0.5500 - lr: 0.0010\n",
      "Epoch 4/5\n",
      "21/21 [==============================] - ETA: 0s - loss: 0.9519 - categorical_accuracy: 0.6320\n",
      "Epoch 00004: val_loss improved from 1.08020 to 1.03316, saving model to model_basic_cnn_gru_2024-11-1108_14_37.400925/model-00004-0.95192-0.63198-1.03316-0.66000.keras\n",
      "21/21 [==============================] - 39s 2s/step - loss: 0.9519 - categorical_accuracy: 0.6320 - val_loss: 1.0332 - val_categorical_accuracy: 0.6600 - lr: 0.0010\n",
      "Epoch 5/5\n",
      "21/21 [==============================] - ETA: 0s - loss: 0.7459 - categorical_accuracy: 0.7210\n",
      "Epoch 00005: val_loss improved from 1.03316 to 0.99267, saving model to model_basic_cnn_gru_2024-11-1108_14_37.400925/model-00005-0.74586-0.72097-0.99267-0.62000.keras\n",
      "21/21 [==============================] - 40s 2s/step - loss: 0.7459 - categorical_accuracy: 0.7210 - val_loss: 0.9927 - val_categorical_accuracy: 0.6200 - lr: 0.0010\n"
     ]
    },
    {
     "data": {
      "image/png": "[encoded data removed]",
      "text/plain": [
       "<Figure size 576x432 with 2 Axes>"
      ]
     },
     "metadata": {
      "needs_background": "light"
     },
     "output_type": "display_data"
    }
   ],
   "source": [
    "# Execute the model\n",
    "curr_dt_time = datetime.datetime.now() # datetimestamp to be appended to model save file\n",
    "\n",
    "# Reset the Generators to be used by CNN+RNN model\n",
    "train_generator = generator2(train_path, train_doc, batch_size, img_idx, img_h, img_w)\n",
    "val_generator = generator2(val_path, val_doc, batch_size, img_idx, img_h, img_w)\n",
    "\n",
    "# Compile the model and print summary\n",
    "optimiser = tf.keras.optimizers.Adam(learning_rate=0.001)\n",
    "print(model_compile(model, optimiser))\n",
    "\n",
    "# Train the model\n",
    "hist = model_train(model, 'basic_cnn_gru', train_generator, steps_per_epoch, num_epochs, val_generator, validation_steps, curr_dt_time)\n",
    "\n",
    "# Visualise the model performance\n",
    "model_plot(hist, num_epochs)"
   ]
  },
  {
   "cell_type": "markdown",
   "metadata": {
    "id": "LVGBd1OyWdzB"
   },
   "source": [
    "#### **Observations:**\n",
    "There is high bias in the model evident thru’ low accuracies. We need to increase the Conv2D layers for better feature extraction and GRU units for higher temporal accuracy. Also reduce image size to accelerate the training time and check the effect on overfitting."
   ]
  },
  {
   "cell_type": "markdown",
   "metadata": {
    "id": "XgS9_OqMWdzC"
   },
   "source": [
    "#### 3.3.2 CNN-GRU Model with Batch Normalisation\n",
    "\n",
    "Add Drop-out after GRU layer & batch normalisation to basic CNN-RNN model"
   ]
  },
  {
   "cell_type": "code",
   "execution_count": 32,
   "metadata": {
    "executionInfo": {
     "elapsed": 29,
     "status": "aborted",
     "timestamp": 1731247335030,
     "user": {
      "displayName": "Ahul K.Vidhyadaran",
      "userId": "05023894389320834244"
     },
     "user_tz": -330
    },
    "id": "SHo-hx_FWdzC"
   },
   "outputs": [],
   "source": [
    "# Add Drop-out after GRU layer & batch normalisation to basic CNN-RNN model\n",
    "\n",
    "input_shape = (img_h, img_w, 3)\n",
    "\n",
    "cnn = Sequential()\n",
    "cnn.add(Conv2D(32, (3, 3), padding='same', input_shape=input_shape))\n",
    "cnn.add(Activation('relu'))\n",
    "cnn.add(BatchNormalization())\n",
    "\n",
    "cnn.add(Conv2D(64, (3, 3), padding='same'))\n",
    "cnn.add(Activation('relu'))\n",
    "cnn.add(MaxPooling2D(pool_size=(2,2)))\n",
    "cnn.add(BatchNormalization())\n",
    "\n",
    "cnn.add(Conv2D(128, (3, 3), padding='same'))\n",
    "cnn.add(Activation('relu'))\n",
    "cnn.add(MaxPooling2D(pool_size=(2,2)))\n",
    "cnn.add(BatchNormalization())\n",
    "\n",
    "# cnn.add(Flatten())\n",
    "# cnn.add(Dense(128, activation='relu'))\n",
    "cnn.add(GlobalAveragePooling2D())\n",
    "\n",
    "# Create TimeDistributed CNN for each frame\n",
    "input_frames = (frames_cnt, img_h, img_w, 3)\n",
    "\n",
    "model = Sequential()\n",
    "model.add(TimeDistributed(cnn, input_shape=input_frames))\n",
    "\n",
    "# GRU Layer for Temporal Dependency\n",
    "model.add(GRU(128, return_sequences=False)) # return sequence not required as only the final output is needed for classification\n",
    "\n",
    "# Drop-out for regularisation\n",
    "model.add(Dropout(.5))\n",
    "\n",
    "# Dense Layer for Classification\n",
    "model.add(Dense(5, activation='softmax'))"
   ]
  },
  {
   "cell_type": "code",
   "execution_count": 33,
   "metadata": {
    "executionInfo": {
     "elapsed": 28,
     "status": "aborted",
     "timestamp": 1731247335030,
     "user": {
      "displayName": "Ahul K.Vidhyadaran",
      "userId": "05023894389320834244"
     },
     "user_tz": -330
    },
    "id": "IgMwL11MWdzC"
   },
   "outputs": [
    {
     "name": "stdout",
     "output_type": "stream",
     "text": [
      "Model: \"sequential_3\"\n",
      "_________________________________________________________________\n",
      " Layer (type)                Output Shape              Param #   \n",
      "=================================================================\n",
      " time_distributed_1 (TimeDis  (None, 15, 128)          94144     \n",
      " tributed)                                                       \n",
      "                                                                 \n",
      " gru_1 (GRU)                 (None, 128)               99072     \n",
      "                                                                 \n",
      " dropout_4 (Dropout)         (None, 128)               0         \n",
      "                                                                 \n",
      " dense_3 (Dense)             (None, 5)                 645       \n",
      "                                                                 \n",
      "=================================================================\n",
      "Total params: 193,861\n",
      "Trainable params: 193,413\n",
      "Non-trainable params: 448\n",
      "_________________________________________________________________\n",
      "None\n",
      "\n",
      "Source path = /home/datasets/Project_data/train ; batch size = 32\n",
      "Epoch 1/20\n",
      "21/21 [==============================] - ETA: 0s - loss: 1.3161 - categorical_accuracy: 0.4540\n",
      "Source path = /home/datasets/Project_data/val ; batch size = 32\n",
      "\n",
      "Epoch 00001: val_loss improved from inf to 1.78956, saving model to model_basic_cnn_gru_reg_2024-11-1116_55_35.253478/model-00001-1.31606-0.45400-1.78956-0.19000.h5\n",
      "21/21 [==============================] - 43s 2s/step - loss: 1.3161 - categorical_accuracy: 0.4540 - val_loss: 1.7896 - val_categorical_accuracy: 0.1900 - lr: 0.0010\n",
      "Epoch 2/20\n",
      "21/21 [==============================] - ETA: 0s - loss: 1.1165 - categorical_accuracy: 0.5475\n",
      "Epoch 00002: val_loss did not improve from 1.78956\n",
      "21/21 [==============================] - 39s 2s/step - loss: 1.1165 - categorical_accuracy: 0.5475 - val_loss: 2.2514 - val_categorical_accuracy: 0.2200 - lr: 0.0010\n",
      "Epoch 3/20\n",
      "21/21 [==============================] - ETA: 0s - loss: 1.0248 - categorical_accuracy: 0.5897\n",
      "Epoch 00003: val_loss did not improve from 1.78956\n",
      "21/21 [==============================] - 38s 2s/step - loss: 1.0248 - categorical_accuracy: 0.5897 - val_loss: 2.6355 - val_categorical_accuracy: 0.2000 - lr: 0.0010\n",
      "Epoch 4/20\n",
      "21/21 [==============================] - ETA: 0s - loss: 0.8785 - categorical_accuracy: 0.6546\n",
      "Epoch 00004: val_loss did not improve from 1.78956\n",
      "21/21 [==============================] - 37s 2s/step - loss: 0.8785 - categorical_accuracy: 0.6546 - val_loss: 2.9503 - val_categorical_accuracy: 0.2100 - lr: 0.0010\n",
      "Epoch 5/20\n",
      "21/21 [==============================] - ETA: 0s - loss: 0.8407 - categorical_accuracy: 0.6757\n",
      "Epoch 00005: val_loss did not improve from 1.78956\n",
      "21/21 [==============================] - 38s 2s/step - loss: 0.8407 - categorical_accuracy: 0.6757 - val_loss: 2.5250 - val_categorical_accuracy: 0.2100 - lr: 0.0010\n",
      "Epoch 6/20\n",
      "21/21 [==============================] - ETA: 0s - loss: 0.7456 - categorical_accuracy: 0.7044\n",
      "Epoch 00006: val_loss did not improve from 1.78956\n",
      "21/21 [==============================] - 39s 2s/step - loss: 0.7456 - categorical_accuracy: 0.7044 - val_loss: 3.1564 - val_categorical_accuracy: 0.2500 - lr: 0.0010\n",
      "Epoch 7/20\n",
      "21/21 [==============================] - ETA: 0s - loss: 0.6335 - categorical_accuracy: 0.7632\n",
      "Epoch 00007: val_loss did not improve from 1.78956\n",
      "21/21 [==============================] - 38s 2s/step - loss: 0.6335 - categorical_accuracy: 0.7632 - val_loss: 2.8005 - val_categorical_accuracy: 0.1900 - lr: 2.0000e-04\n",
      "Epoch 8/20\n",
      "21/21 [==============================] - ETA: 0s - loss: 0.5756 - categorical_accuracy: 0.7783\n",
      "Epoch 00008: val_loss did not improve from 1.78956\n",
      "21/21 [==============================] - 37s 2s/step - loss: 0.5756 - categorical_accuracy: 0.7783 - val_loss: 2.8195 - val_categorical_accuracy: 0.2100 - lr: 2.0000e-04\n",
      "Epoch 9/20\n",
      "21/21 [==============================] - ETA: 0s - loss: 0.5374 - categorical_accuracy: 0.7843\n",
      "Epoch 00009: val_loss did not improve from 1.78956\n",
      "21/21 [==============================] - 38s 2s/step - loss: 0.5374 - categorical_accuracy: 0.7843 - val_loss: 2.9826 - val_categorical_accuracy: 0.2100 - lr: 2.0000e-04\n",
      "Epoch 10/20\n",
      "21/21 [==============================] - ETA: 0s - loss: 0.5368 - categorical_accuracy: 0.7964\n",
      "Epoch 00010: val_loss did not improve from 1.78956\n",
      "21/21 [==============================] - 38s 2s/step - loss: 0.5368 - categorical_accuracy: 0.7964 - val_loss: 3.9010 - val_categorical_accuracy: 0.2200 - lr: 2.0000e-04\n",
      "Epoch 11/20\n",
      "21/21 [==============================] - ETA: 0s - loss: 0.4643 - categorical_accuracy: 0.8235\n",
      "Epoch 00011: val_loss did not improve from 1.78956\n",
      "21/21 [==============================] - 39s 2s/step - loss: 0.4643 - categorical_accuracy: 0.8235 - val_loss: 3.7090 - val_categorical_accuracy: 0.1800 - lr: 2.0000e-04\n",
      "Epoch 12/20\n",
      "21/21 [==============================] - ETA: 0s - loss: 0.4571 - categorical_accuracy: 0.8084\n",
      "Epoch 00012: val_loss did not improve from 1.78956\n",
      "21/21 [==============================] - 37s 2s/step - loss: 0.4571 - categorical_accuracy: 0.8084 - val_loss: 2.9830 - val_categorical_accuracy: 0.2600 - lr: 1.0000e-04\n",
      "Epoch 13/20\n",
      "21/21 [==============================] - ETA: 0s - loss: 0.4649 - categorical_accuracy: 0.8069\n",
      "Epoch 00013: val_loss did not improve from 1.78956\n",
      "21/21 [==============================] - 38s 2s/step - loss: 0.4649 - categorical_accuracy: 0.8069 - val_loss: 2.4717 - val_categorical_accuracy: 0.2600 - lr: 1.0000e-04\n",
      "Epoch 14/20\n",
      "21/21 [==============================] - ETA: 0s - loss: 0.4441 - categorical_accuracy: 0.8311\n",
      "Epoch 00014: val_loss did not improve from 1.78956\n",
      "21/21 [==============================] - 39s 2s/step - loss: 0.4441 - categorical_accuracy: 0.8311 - val_loss: 1.9953 - val_categorical_accuracy: 0.3400 - lr: 1.0000e-04\n",
      "Epoch 15/20\n",
      "21/21 [==============================] - ETA: 0s - loss: 0.4223 - categorical_accuracy: 0.8311\n",
      "Epoch 00015: val_loss improved from 1.78956 to 1.77333, saving model to model_basic_cnn_gru_reg_2024-11-1116_55_35.253478/model-00015-0.42235-0.83107-1.77333-0.28000.h5\n",
      "21/21 [==============================] - 39s 2s/step - loss: 0.4223 - categorical_accuracy: 0.8311 - val_loss: 1.7733 - val_categorical_accuracy: 0.2800 - lr: 1.0000e-04\n",
      "Epoch 16/20\n",
      "21/21 [==============================] - ETA: 0s - loss: 0.4425 - categorical_accuracy: 0.8115\n",
      "Epoch 00016: val_loss improved from 1.77333 to 1.20342, saving model to model_basic_cnn_gru_reg_2024-11-1116_55_35.253478/model-00016-0.44249-0.81146-1.20342-0.51000.h5\n",
      "21/21 [==============================] - 37s 2s/step - loss: 0.4425 - categorical_accuracy: 0.8115 - val_loss: 1.2034 - val_categorical_accuracy: 0.5100 - lr: 1.0000e-04\n",
      "Epoch 17/20\n",
      "21/21 [==============================] - ETA: 0s - loss: 0.4039 - categorical_accuracy: 0.8462\n",
      "Epoch 00017: val_loss improved from 1.20342 to 0.90230, saving model to model_basic_cnn_gru_reg_2024-11-1116_55_35.253478/model-00017-0.40388-0.84615-0.90230-0.56000.h5\n",
      "21/21 [==============================] - 38s 2s/step - loss: 0.4039 - categorical_accuracy: 0.8462 - val_loss: 0.9023 - val_categorical_accuracy: 0.5600 - lr: 1.0000e-04\n",
      "Epoch 18/20\n",
      "21/21 [==============================] - ETA: 0s - loss: 0.4103 - categorical_accuracy: 0.8326\n",
      "Epoch 00018: val_loss improved from 0.90230 to 0.74229, saving model to model_basic_cnn_gru_reg_2024-11-1116_55_35.253478/model-00018-0.41034-0.83258-0.74229-0.66000.h5\n",
      "21/21 [==============================] - 38s 2s/step - loss: 0.4103 - categorical_accuracy: 0.8326 - val_loss: 0.7423 - val_categorical_accuracy: 0.6600 - lr: 1.0000e-04\n",
      "Epoch 19/20\n",
      "21/21 [==============================] - ETA: 0s - loss: 0.3765 - categorical_accuracy: 0.8537\n",
      "Epoch 00019: val_loss improved from 0.74229 to 0.53355, saving model to model_basic_cnn_gru_reg_2024-11-1116_55_35.253478/model-00019-0.37648-0.85370-0.53355-0.77000.h5\n",
      "21/21 [==============================] - 39s 2s/step - loss: 0.3765 - categorical_accuracy: 0.8537 - val_loss: 0.5336 - val_categorical_accuracy: 0.7700 - lr: 1.0000e-04\n",
      "Epoch 20/20\n",
      "21/21 [==============================] - ETA: 0s - loss: 0.3549 - categorical_accuracy: 0.8567\n",
      "Epoch 00020: val_loss did not improve from 0.53355\n",
      "21/21 [==============================] - 37s 2s/step - loss: 0.3549 - categorical_accuracy: 0.8567 - val_loss: 0.5784 - val_categorical_accuracy: 0.7700 - lr: 1.0000e-04\n"
     ]
    },
    {
     "data": {
      "image/png": "[encoded data removed]",
      "text/plain": [
       "<Figure size 576x432 with 2 Axes>"
      ]
     },
     "metadata": {
      "needs_background": "light"
     },
     "output_type": "display_data"
    }
   ],
   "source": [
    "# Execute the model\n",
    "curr_dt_time = datetime.datetime.now() # datetimestamp to be appended to model save file\n",
    "\n",
    "# Reset the Generators to be used by CNN+RNN model\n",
    "train_generator = generator2(train_path, train_doc, batch_size, img_idx, img_h, img_w)\n",
    "val_generator = generator2(val_path, val_doc, batch_size, img_idx, img_h, img_w)\n",
    "\n",
    "# Compile the model and print summary\n",
    "optimiser = tf.keras.optimizers.Adam(learning_rate=0.001)\n",
    "print(model_compile(model, optimiser))\n",
    "\n",
    "# Train the model\n",
    "hist = model_train(model, 'basic_cnn_gru_reg', train_generator, steps_per_epoch, num_epochs, val_generator, validation_steps, curr_dt_time)\n",
    "\n",
    "# Visualise the model performance\n",
    "model_plot(hist, num_epochs)"
   ]
  },
  {
   "cell_type": "markdown",
   "metadata": {
    "id": "4jjGgH4tWdzC"
   },
   "source": [
    "#### **Observations:**\n",
    "Overfitting slightly improved with increased validation accuracy. Trainable parameters reduced drastically with faster training speed."
   ]
  },
  {
   "cell_type": "markdown",
   "metadata": {
    "id": "KIjgbih0WdzC",
    "jp-MarkdownHeadingCollapsed": true
   },
   "source": [
    "#### 3.3.3 CNN-GRU Transfer Model\n",
    "\n",
    "Use MobileNetV2 pre-trained CNN model which is light-weight for small mobile devices as the feature extractor"
   ]
  },
  {
   "cell_type": "code",
   "execution_count": 24,
   "metadata": {
    "executionInfo": {
     "elapsed": 28,
     "status": "aborted",
     "timestamp": 1731247335031,
     "user": {
      "displayName": "Ahul K.Vidhyadaran",
      "userId": "05023894389320834244"
     },
     "user_tz": -330
    },
    "id": "Y521XdxCWdzC"
   },
   "outputs": [
    {
     "name": "stdout",
     "output_type": "stream",
     "text": [
      "WARNING:tensorflow:`input_shape` is undefined or non-square, or `rows` is not in [96, 128, 160, 192, 224]. Weights for input shape (224, 224) will be loaded as the default.\n",
      "Downloading data from https://storage.googleapis.com/tensorflow/keras-applications/mobilenet_v2/mobilenet_v2_weights_tf_dim_ordering_tf_kernels_1.0_224_no_top.h5\n",
      "9412608/9406464 [==============================] - 0s 0us/step\n",
      "9420800/9406464 [==============================] - 0s 0us/step\n"
     ]
    }
   ],
   "source": [
    "from tensorflow.keras.applications import MobileNetV2\n",
    "\n",
    "# Parameters\n",
    "input_shape = (frames_cnt, img_h, img_w, 3)  # 15 frames, img_h X img_w resolution, 3 channels (RGB)\n",
    "num_classes = 5  # 5 different gestures to classify\n",
    "\n",
    "# CNN Backbone for feature extraction from each frame\n",
    "cnn_base = MobileNetV2(weights='imagenet', include_top=False, input_shape=(img_h, img_w, 3))\n",
    "cnn_base.trainable = False  # Freeze CNN layers to speed up training\n",
    "\n",
    "# Create a TimeDistributed wrapper around CNN\n",
    "input_frames = Input(shape=input_shape)\n",
    "x = TimeDistributed(cnn_base)(input_frames)\n",
    "x = TimeDistributed(GlobalAveragePooling2D())(x)  # Reduce spatial dimensions\n",
    "\n",
    "# GRU Layer for Temporal Dependency\n",
    "x = GRU(128, return_sequences=False)(x)  # 128 units in GRU layer\n",
    "\n",
    "# Final Classification Layer\n",
    "output = Dense(num_classes, activation='softmax')(x)\n",
    "model = Model(inputs=input_frames, outputs=output)"
   ]
  },
  {
   "cell_type": "code",
   "execution_count": 25,
   "metadata": {
    "executionInfo": {
     "elapsed": 28,
     "status": "aborted",
     "timestamp": 1731247335031,
     "user": {
      "displayName": "Ahul K.Vidhyadaran",
      "userId": "05023894389320834244"
     },
     "user_tz": -330
    },
    "id": "rRxB6p0eWdzD"
   },
   "outputs": [
    {
     "name": "stdout",
     "output_type": "stream",
     "text": [
      "Model: \"model\"\n",
      "_________________________________________________________________\n",
      " Layer (type)                Output Shape              Param #   \n",
      "=================================================================\n",
      " input_2 (InputLayer)        [(None, 15, 64, 64, 3)]   0         \n",
      "                                                                 \n",
      " time_distributed_2 (TimeDis  (None, 15, 2, 2, 1280)   2257984   \n",
      " tributed)                                                       \n",
      "                                                                 \n",
      " time_distributed_3 (TimeDis  (None, 15, 1280)         0         \n",
      " tributed)                                                       \n",
      "                                                                 \n",
      " gru_2 (GRU)                 (None, 128)               541440    \n",
      "                                                                 \n",
      " dense_4 (Dense)             (None, 5)                 645       \n",
      "                                                                 \n",
      "=================================================================\n",
      "Total params: 2,800,069\n",
      "Trainable params: 542,085\n",
      "Non-trainable params: 2,257,984\n",
      "_________________________________________________________________\n",
      "None\n",
      "\n",
      "Source path = /home/datasets/Project_data/train ; batch size = 32\n",
      "Epoch 1/5\n",
      "21/21 [==============================] - ETA: 0s - loss: 1.5331 - categorical_accuracy: 0.3484\n",
      "Source path = /home/datasets/Project_data/val ; batch size = 32\n",
      "\n",
      "Epoch 00001: val_loss improved from inf to 1.22240, saving model to model_basic_cnn_gru_trans_2024-11-1108_21_31.860469/model-00001-1.53310-0.34842-1.22240-0.46000.keras\n"
     ]
    },
    {
     "name": "stderr",
     "output_type": "stream",
     "text": [
      "/usr/local/lib/python3.8/dist-packages/keras/engine/functional.py:1410: CustomMaskWarning: Custom mask layers require a config and must override get_config. When loading, the custom mask layer must be passed to the custom_objects argument.\n",
      "  layer_config = serialize_layer_fn(layer)\n"
     ]
    },
    {
     "name": "stdout",
     "output_type": "stream",
     "text": [
      "21/21 [==============================] - 45s 2s/step - loss: 1.5331 - categorical_accuracy: 0.3484 - val_loss: 1.2224 - val_categorical_accuracy: 0.4600 - lr: 0.0010\n",
      "Epoch 2/5\n",
      "21/21 [==============================] - ETA: 0s - loss: 0.7367 - categorical_accuracy: 0.7541\n",
      "Epoch 00002: val_loss improved from 1.22240 to 1.04497, saving model to model_basic_cnn_gru_trans_2024-11-1108_21_31.860469/model-00002-0.73675-0.75415-1.04497-0.59000.keras\n",
      "21/21 [==============================] - 39s 2s/step - loss: 0.7367 - categorical_accuracy: 0.7541 - val_loss: 1.0450 - val_categorical_accuracy: 0.5900 - lr: 0.0010\n",
      "Epoch 3/5\n",
      "21/21 [==============================] - ETA: 0s - loss: 0.4137 - categorical_accuracy: 0.9080\n",
      "Epoch 00003: val_loss did not improve from 1.04497\n",
      "21/21 [==============================] - 40s 2s/step - loss: 0.4137 - categorical_accuracy: 0.9080 - val_loss: 1.4213 - val_categorical_accuracy: 0.4700 - lr: 0.0010\n",
      "Epoch 4/5\n",
      "21/21 [==============================] - ETA: 0s - loss: 0.2234 - categorical_accuracy: 0.9744\n",
      "Epoch 00004: val_loss did not improve from 1.04497\n",
      "21/21 [==============================] - 39s 2s/step - loss: 0.2234 - categorical_accuracy: 0.9744 - val_loss: 1.3122 - val_categorical_accuracy: 0.5500 - lr: 0.0010\n",
      "Epoch 5/5\n",
      "21/21 [==============================] - ETA: 0s - loss: 0.1102 - categorical_accuracy: 0.9940\n",
      "Epoch 00005: val_loss did not improve from 1.04497\n",
      "21/21 [==============================] - 38s 2s/step - loss: 0.1102 - categorical_accuracy: 0.9940 - val_loss: 1.4437 - val_categorical_accuracy: 0.5600 - lr: 0.0010\n"
     ]
    },
    {
     "data": {
      "image/png": "[encoded data removed]",
      "text/plain": [
       "<Figure size 576x432 with 2 Axes>"
      ]
     },
     "metadata": {
      "needs_background": "light"
     },
     "output_type": "display_data"
    }
   ],
   "source": [
    "# Execute the model\n",
    "curr_dt_time = datetime.datetime.now() # datetimestamp to be appended to model save file\n",
    "\n",
    "# Reset the Generators to be used by CNN+RNN model\n",
    "train_generator = generator2(train_path, train_doc, batch_size, img_idx, img_h, img_w)\n",
    "val_generator = generator2(val_path, val_doc, batch_size, img_idx, img_h, img_w)\n",
    "\n",
    "# Compile the model and print summary\n",
    "optimiser = tf.keras.optimizers.Adam(learning_rate=0.001)\n",
    "print(model_compile(model, optimiser))\n",
    "\n",
    "# Train the model\n",
    "hist = model_train(model, 'basic_cnn_gru_trans', train_generator, steps_per_epoch, num_epochs, val_generator, validation_steps, curr_dt_time)\n",
    "\n",
    "# Visualise the model performance\n",
    "model_plot(hist, num_epochs)"
   ]
  },
  {
   "cell_type": "markdown",
   "metadata": {
    "id": "knrwMNs2WdzD"
   },
   "source": [
    "#### **Observations:**\n",
    "Training accuracy reached maximum (1.0), but overfitting stayed with relatively lower val accuracy. Let's try LSTM model next to check accuracy levels."
   ]
  },
  {
   "cell_type": "markdown",
   "metadata": {
    "id": "plm5r0xbWdzD",
    "jp-MarkdownHeadingCollapsed": true
   },
   "source": [
    "#### 3.3.4 Basic CNN-LSTM Model\n",
    "\n",
    "Replace GRU Gate with LSTM Gate in the basic CNN-RNN model"
   ]
  },
  {
   "cell_type": "code",
   "execution_count": 26,
   "metadata": {
    "executionInfo": {
     "elapsed": 27,
     "status": "aborted",
     "timestamp": 1731247335031,
     "user": {
      "displayName": "Ahul K.Vidhyadaran",
      "userId": "05023894389320834244"
     },
     "user_tz": -330
    },
    "id": "G3nDo6RhWdzD"
   },
   "outputs": [],
   "source": [
    "# Replace GRU Gate with LSTM Gate in the basic CNN-RNN model\n",
    "num_classes = 5        # Number of output classes for classification\n",
    "\n",
    "# Define the CNN feature extractor model\n",
    "cnn = Sequential()\n",
    "\n",
    "# CNN Layers\n",
    "cnn.add(Conv2D(32, (3, 3), activation='relu', padding='same', input_shape=(img_h, img_w, 3)))\n",
    "cnn.add(MaxPooling2D(pool_size=(2, 2)))\n",
    "\n",
    "cnn.add(Conv2D(64, (3, 3), activation='relu', padding='same'))\n",
    "cnn.add(MaxPooling2D(pool_size=(2, 2)))\n",
    "\n",
    "cnn.add(Conv2D(128, (3, 3), activation='relu', padding='same'))\n",
    "cnn.add(MaxPooling2D(pool_size=(2, 2)))\n",
    "\n",
    "cnn.add(Flatten())\n",
    "cnn.add(Dense(256, activation='relu'))\n",
    "\n",
    "# Define the full model\n",
    "model = Sequential()\n",
    "\n",
    "# Add a TimeDistributed wrapper around the CNN model\n",
    "model.add(TimeDistributed(cnn, input_shape=(frames_cnt, img_h, img_w, 3)))\n",
    "\n",
    "# Add LSTM layer for temporal processing\n",
    "model.add(LSTM(128, return_sequences=False))  # Only final LSTM output is used for classification\n",
    "\n",
    "# Add final Dense layer for classification\n",
    "model.add(Dense(num_classes, activation='softmax'))"
   ]
  },
  {
   "cell_type": "code",
   "execution_count": null,
   "metadata": {
    "executionInfo": {
     "elapsed": 26,
     "status": "aborted",
     "timestamp": 1731247335031,
     "user": {
      "displayName": "Ahul K.Vidhyadaran",
      "userId": "05023894389320834244"
     },
     "user_tz": -330
    },
    "id": "v8P2jmDXWdzD"
   },
   "outputs": [
    {
     "name": "stdout",
     "output_type": "stream",
     "text": [
      "Model: \"sequential_5\"\n",
      "_________________________________________________________________\n",
      " Layer (type)                Output Shape              Param #   \n",
      "=================================================================\n",
      " time_distributed_4 (TimeDis  (None, 15, 256)          2190656   \n",
      " tributed)                                                       \n",
      "                                                                 \n",
      " lstm (LSTM)                 (None, 128)               197120    \n",
      "                                                                 \n",
      " dense_6 (Dense)             (None, 5)                 645       \n",
      "                                                                 \n",
      "=================================================================\n",
      "Total params: 2,388,421\n",
      "Trainable params: 2,388,421\n",
      "Non-trainable params: 0\n",
      "_________________________________________________________________\n",
      "None\n",
      "\n",
      "Source path = /home/datasets/Project_data/train ; batch size = 32\n",
      "Epoch 1/5\n",
      "21/21 [==============================] - ETA: 0s - loss: 1.6215 - categorical_accuracy: 0.2459\n",
      "Source path = /home/datasets/Project_data/val ; batch size = 32\n",
      "\n",
      "Epoch 00001: val_loss improved from inf to 1.56940, saving model to model_basic_cnn_lstm_2024-11-1108_24_55.798616/model-00001-1.62149-0.24585-1.56940-0.23000.keras\n",
      "21/21 [==============================] - 41s 2s/step - loss: 1.6215 - categorical_accuracy: 0.2459 - val_loss: 1.5694 - val_categorical_accuracy: 0.2300 - lr: 0.0010\n",
      "Epoch 2/5\n",
      "21/21 [==============================] - ETA: 0s - loss: 1.4673 - categorical_accuracy: 0.3318\n",
      "Epoch 00002: val_loss improved from 1.56940 to 1.40641, saving model to model_basic_cnn_lstm_2024-11-1108_24_55.798616/model-00002-1.46726-0.33183-1.40641-0.35000.keras\n",
      "21/21 [==============================] - 41s 2s/step - loss: 1.4673 - categorical_accuracy: 0.3318 - val_loss: 1.4064 - val_categorical_accuracy: 0.3500 - lr: 0.0010\n",
      "Epoch 3/5\n",
      "21/21 [==============================] - ETA: 0s - loss: 1.1800 - categorical_accuracy: 0.5113\n",
      "Epoch 00003: val_loss improved from 1.40641 to 1.14354, saving model to model_basic_cnn_lstm_2024-11-1108_24_55.798616/model-00003-1.18002-0.51131-1.14354-0.51000.keras\n",
      "21/21 [==============================] - 40s 2s/step - loss: 1.1800 - categorical_accuracy: 0.5113 - val_loss: 1.1435 - val_categorical_accuracy: 0.5100 - lr: 0.0010\n",
      "Epoch 4/5\n",
      "21/21 [==============================] - ETA: 0s - loss: 0.9677 - categorical_accuracy: 0.6244\n",
      "Epoch 00004: val_loss improved from 1.14354 to 1.11211, saving model to model_basic_cnn_lstm_2024-11-1108_24_55.798616/model-00004-0.96767-0.62443-1.11211-0.56000.keras\n",
      "21/21 [==============================] - 37s 2s/step - loss: 0.9677 - categorical_accuracy: 0.6244 - val_loss: 1.1121 - val_categorical_accuracy: 0.5600 - lr: 0.0010\n",
      "Epoch 5/5\n",
      "21/21 [==============================] - ETA: 0s - loss: 0.8071 - categorical_accuracy: 0.6878\n",
      "Epoch 00005: val_loss improved from 1.11211 to 1.01835, saving model to model_basic_cnn_lstm_2024-11-1108_24_55.798616/model-00005-0.80712-0.68778-1.01835-0.62000.keras\n",
      "21/21 [==============================] - 39s 2s/step - loss: 0.8071 - categorical_accuracy: 0.6878 - val_loss: 1.0184 - val_categorical_accuracy: 0.6200 - lr: 0.0010\n"
     ]
    },
    {
     "data": {
      "image/png": "[encoded data removed]",
      "text/plain": [
       "<Figure size 576x432 with 2 Axes>"
      ]
     },
     "metadata": {
      "needs_background": "light"
     },
     "output_type": "display_data"
    }
   ],
   "source": [
    "# Execute the model\n",
    "curr_dt_time = datetime.datetime.now() # datetimestamp to be appended to model save file\n",
    "\n",
    "# Reset the Generators to be used by CNN+RNN model\n",
    "train_generator = generator2(train_path, train_doc, batch_size, img_idx, img_h, img_w)\n",
    "val_generator = generator2(val_path, val_doc, batch_size, img_idx, img_h, img_w)\n",
    "\n",
    "# Compile the model and print summary\n",
    "optimiser = tf.keras.optimizers.Adam(learning_rate=0.001)\n",
    "print(model_compile(model, optimiser))\n",
    "\n",
    "# Train the model\n",
    "hist = model_train(model, 'basic_cnn_lstm', train_generator, steps_per_epoch, num_epochs, val_generator, validation_steps, curr_dt_time)\n",
    "\n",
    "# Visualise the model performance\n",
    "model_plot(hist, num_epochs)"
   ]
  },
  {
   "cell_type": "markdown",
   "metadata": {
    "id": "46t8sfEgWdzD"
   },
   "source": [
    "#### **Observations:**\n",
    "Training accuracy reached maximum (1.0), but overfitting occurred from initial epochs itself."
   ]
  },
  {
   "cell_type": "markdown",
   "metadata": {
    "id": "BYA3-OrQWdzE",
    "jp-MarkdownHeadingCollapsed": true
   },
   "source": [
    "#### 3.3.5 CNN-LSTM Transfer Model\n",
    "\n",
    "Use pre-trained ResNet50 as the CNN feature extractor for the basic CNN-LSTM model. Though ResNet50 is heavier than MobileNetV2, it's being used here to observe the performance of feature extraction"
   ]
  },
  {
   "cell_type": "code",
   "execution_count": 46,
   "metadata": {
    "executionInfo": {
     "elapsed": 25,
     "status": "aborted",
     "timestamp": 1731247335031,
     "user": {
      "displayName": "Ahul K.Vidhyadaran",
      "userId": "05023894389320834244"
     },
     "user_tz": -330
    },
    "id": "0164zzL3WdzE"
   },
   "outputs": [],
   "source": [
    "from tensorflow.keras.applications import ResNet50\n",
    "\n",
    "num_classes = 5       # Number of output classes for classification\n",
    "\n",
    "# Load pre-trained ResNet50 as the CNN feature extractor\n",
    "# We set `include_top=False` to exclude the dense layers, as we only need feature maps\n",
    "cnn_base = ResNet50(weights='imagenet', include_top=False, input_shape=(img_h, img_w, 3))\n",
    "cnn_base.trainable = False  # Freeze the base model to retain pre-trained features\n",
    "\n",
    "# Add Global Average Pooling to reduce dimensions of the feature maps from ResNet50\n",
    "cnn_model = Sequential([\n",
    "    cnn_base,\n",
    "    GlobalAveragePooling2D()  # Converts the 3D output of ResNet to a 1D feature vector\n",
    "])\n",
    "\n",
    "# Define the full model\n",
    "model = Sequential()\n",
    "\n",
    "# Add a TimeDistributed wrapper to process each frame independently\n",
    "model.add(TimeDistributed(cnn_model, input_shape=(frames_cnt, img_h, img_w, 3)))\n",
    "\n",
    "# Add LSTM layer for temporal processing\n",
    "model.add(LSTM(128, return_sequences=False))  # Output from the final LSTM unit will be used for classification\n",
    "\n",
    "# Add Dense layer for classification\n",
    "model.add(Dense(num_classes, activation='softmax'))"
   ]
  },
  {
   "cell_type": "code",
   "execution_count": 47,
   "metadata": {
    "executionInfo": {
     "elapsed": 23,
     "status": "aborted",
     "timestamp": 1731247335032,
     "user": {
      "displayName": "Ahul K.Vidhyadaran",
      "userId": "05023894389320834244"
     },
     "user_tz": -330
    },
    "id": "pGaNjU6YWdzE"
   },
   "outputs": [
    {
     "name": "stdout",
     "output_type": "stream",
     "text": [
      "Model: \"sequential_11\"\n",
      "_________________________________________________________________\n",
      " Layer (type)                Output Shape              Param #   \n",
      "=================================================================\n",
      " time_distributed_7 (TimeDis  (None, 15, 2048)         23587712  \n",
      " tributed)                                                       \n",
      "                                                                 \n",
      " lstm_3 (LSTM)               (None, 128)               1114624   \n",
      "                                                                 \n",
      " dense_9 (Dense)             (None, 5)                 645       \n",
      "                                                                 \n",
      "=================================================================\n",
      "Total params: 24,702,981\n",
      "Trainable params: 1,115,269\n",
      "Non-trainable params: 23,587,712\n",
      "_________________________________________________________________\n",
      "None\n",
      "\n",
      "Source path = /home/datasets/Project_data/train ; batch size = 32\n",
      "Epoch 1/5\n",
      "21/21 [==============================] - ETA: 0s - loss: 1.6244 - categorical_accuracy: 0.2081\n",
      "Source path = /home/datasets/Project_data/val ; batch size = 32\n",
      "\n",
      "Epoch 00001: val_loss improved from inf to 1.47637, saving model to model_basic_cnn_lstm_trans_2024-11-1108_42_39.446840/model-00001-1.62442-0.20814-1.47637-0.36000.h5\n",
      "21/21 [==============================] - 46s 2s/step - loss: 1.6244 - categorical_accuracy: 0.2081 - val_loss: 1.4764 - val_categorical_accuracy: 0.3600 - lr: 0.0010\n",
      "Epoch 2/5\n",
      "21/21 [==============================] - ETA: 0s - loss: 1.4940 - categorical_accuracy: 0.3333\n",
      "Epoch 00002: val_loss did not improve from 1.47637\n",
      "21/21 [==============================] - 40s 2s/step - loss: 1.4940 - categorical_accuracy: 0.3333 - val_loss: 1.4892 - val_categorical_accuracy: 0.3000 - lr: 0.0010\n",
      "Epoch 3/5\n",
      "21/21 [==============================] - ETA: 0s - loss: 1.4621 - categorical_accuracy: 0.3379\n",
      "Epoch 00003: val_loss improved from 1.47637 to 1.38380, saving model to model_basic_cnn_lstm_trans_2024-11-1108_42_39.446840/model-00003-1.46211-0.33786-1.38380-0.36000.h5\n",
      "21/21 [==============================] - 40s 2s/step - loss: 1.4621 - categorical_accuracy: 0.3379 - val_loss: 1.3838 - val_categorical_accuracy: 0.3600 - lr: 0.0010\n",
      "Epoch 4/5\n",
      "21/21 [==============================] - ETA: 0s - loss: 1.4234 - categorical_accuracy: 0.3620\n",
      "Epoch 00004: val_loss improved from 1.38380 to 1.37824, saving model to model_basic_cnn_lstm_trans_2024-11-1108_42_39.446840/model-00004-1.42339-0.36199-1.37824-0.41000.h5\n",
      "21/21 [==============================] - 38s 2s/step - loss: 1.4234 - categorical_accuracy: 0.3620 - val_loss: 1.3782 - val_categorical_accuracy: 0.4100 - lr: 0.0010\n",
      "Epoch 5/5\n",
      "21/21 [==============================] - ETA: 0s - loss: 1.3995 - categorical_accuracy: 0.4027\n",
      "Epoch 00005: val_loss did not improve from 1.37824\n",
      "21/21 [==============================] - 39s 2s/step - loss: 1.3995 - categorical_accuracy: 0.4027 - val_loss: 1.4356 - val_categorical_accuracy: 0.3700 - lr: 0.0010\n"
     ]
    },
    {
     "data": {
      "image/png": "[encoded data removed]",
      "text/plain": [
       "<Figure size 576x432 with 2 Axes>"
      ]
     },
     "metadata": {
      "needs_background": "light"
     },
     "output_type": "display_data"
    }
   ],
   "source": [
    "# Execute the model\n",
    "curr_dt_time = datetime.datetime.now() # datetimestamp to be appended to model save file\n",
    "\n",
    "# Reset the Generators to be used by CNN+RNN model\n",
    "train_generator = generator2(train_path, train_doc, batch_size, img_idx, img_h, img_w)\n",
    "val_generator = generator2(val_path, val_doc, batch_size, img_idx, img_h, img_w)\n",
    "\n",
    "# Compile the model and print summary\n",
    "optimiser = tf.keras.optimizers.Adam(learning_rate=0.001)\n",
    "print(model_compile(model, optimiser))\n",
    "\n",
    "# Train the model\n",
    "hist = model_train(model, 'basic_cnn_lstm_trans', train_generator, steps_per_epoch, num_epochs, val_generator, validation_steps, curr_dt_time)\n",
    "\n",
    "# Visualise the model performance\n",
    "model_plot(hist, num_epochs)"
   ]
  },
  {
   "cell_type": "markdown",
   "metadata": {
    "id": "DH6_-C6SWdzE"
   },
   "source": [
    "#### **Observations:**\n",
    "There was severe underfitting with training accuracy reaching only a max of 0.58. ResNet50 didn’t go well with LSTM gates. Let's check standard LSTM model with regularisers."
   ]
  },
  {
   "cell_type": "markdown",
   "metadata": {
    "id": "dNRd6tN7WdzE",
    "jp-MarkdownHeadingCollapsed": true
   },
   "source": [
    "#### 3.3.6 CNN-LSTM Model with Regularisation\n",
    "\n",
    "Add Drop-outs and L2 Regularisers to each layer of basic CNN-LSTM model"
   ]
  },
  {
   "cell_type": "code",
   "execution_count": 48,
   "metadata": {
    "executionInfo": {
     "elapsed": 22,
     "status": "aborted",
     "timestamp": 1731247335032,
     "user": {
      "displayName": "Ahul K.Vidhyadaran",
      "userId": "05023894389320834244"
     },
     "user_tz": -330
    },
    "id": "PQ8qupKEWdzE"
   },
   "outputs": [
    {
     "name": "stdout",
     "output_type": "stream",
     "text": [
      "WARNING:tensorflow:Layer lstm_4 will not use cuDNN kernels since it doesn't meet the criteria. It will use a generic GPU kernel as fallback when running on GPU.\n"
     ]
    }
   ],
   "source": [
    "from tensorflow.keras.regularizers import l2\n",
    "\n",
    "num_classes = 5        # Number of output classes for classification\n",
    "\n",
    "# Define the CNN feature extractor model with regularization\n",
    "cnn = Sequential()\n",
    "\n",
    "# CNN Layers with Dropout and L2 Regularization\n",
    "cnn.add(Conv2D(32, (3, 3), activation='relu', padding='same', input_shape=(img_h, img_w, 3), kernel_regularizer=l2(0.001)))\n",
    "cnn.add(MaxPooling2D(pool_size=(2, 2)))\n",
    "cnn.add(Dropout(0.25))  # Dropout after pooling to prevent overfitting\n",
    "\n",
    "cnn.add(Conv2D(64, (3, 3), activation='relu', padding='same', kernel_regularizer=l2(0.001)))\n",
    "cnn.add(MaxPooling2D(pool_size=(2, 2)))\n",
    "cnn.add(Dropout(0.25))\n",
    "\n",
    "cnn.add(Conv2D(128, (3, 3), activation='relu', padding='same', kernel_regularizer=l2(0.001)))\n",
    "cnn.add(MaxPooling2D(pool_size=(2, 2)))\n",
    "cnn.add(Dropout(0.25))\n",
    "\n",
    "cnn.add(Flatten())\n",
    "cnn.add(Dense(256, activation='relu', kernel_regularizer=l2(0.001)))\n",
    "cnn.add(Dropout(0.5))  # Dropout in dense layer\n",
    "\n",
    "# Define the full model\n",
    "model = Sequential()\n",
    "\n",
    "# Add a TimeDistributed wrapper around the CNN model\n",
    "model.add(TimeDistributed(cnn, input_shape=(frames_cnt, img_h, img_w, 3)))\n",
    "\n",
    "# LSTM Layer with Dropout for Temporal Dependency\n",
    "model.add(LSTM(128, return_sequences=False, dropout=0.5, recurrent_dropout=0.5))  # Dropout for LSTM layer\n",
    "\n",
    "# Dense Layer for Classification\n",
    "model.add(Dense(num_classes, activation='softmax'))"
   ]
  },
  {
   "cell_type": "code",
   "execution_count": 49,
   "metadata": {
    "executionInfo": {
     "elapsed": 21,
     "status": "aborted",
     "timestamp": 1731247335032,
     "user": {
      "displayName": "Ahul K.Vidhyadaran",
      "userId": "05023894389320834244"
     },
     "user_tz": -330
    },
    "id": "O26V3PRUWdzF"
   },
   "outputs": [
    {
     "name": "stdout",
     "output_type": "stream",
     "text": [
      "Model: \"sequential_13\"\n",
      "_________________________________________________________________\n",
      " Layer (type)                Output Shape              Param #   \n",
      "=================================================================\n",
      " time_distributed_8 (TimeDis  (None, 15, 256)          2190656   \n",
      " tributed)                                                       \n",
      "                                                                 \n",
      " lstm_4 (LSTM)               (None, 128)               197120    \n",
      "                                                                 \n",
      " dense_11 (Dense)            (None, 5)                 645       \n",
      "                                                                 \n",
      "=================================================================\n",
      "Total params: 2,388,421\n",
      "Trainable params: 2,388,421\n",
      "Non-trainable params: 0\n",
      "_________________________________________________________________\n",
      "None\n",
      "\n",
      "Source path = /home/datasets/Project_data/train ; batch size = 32\n",
      "Epoch 1/5\n",
      "21/21 [==============================] - ETA: 0s - loss: 2.0994 - categorical_accuracy: 0.2127\n",
      "Source path = /home/datasets/Project_data/val ; batch size = 32\n",
      "\n",
      "Epoch 00001: val_loss improved from inf to 1.94441, saving model to model_cnn_lstm_reg_2024-11-1108_46_03.769712/model-00001-2.09944-0.21267-1.94441-0.31000.h5\n",
      "21/21 [==============================] - 42s 2s/step - loss: 2.0994 - categorical_accuracy: 0.2127 - val_loss: 1.9444 - val_categorical_accuracy: 0.3100 - lr: 0.0010\n",
      "Epoch 2/5\n",
      "21/21 [==============================] - ETA: 0s - loss: 1.7611 - categorical_accuracy: 0.3454\n",
      "Epoch 00002: val_loss improved from 1.94441 to 1.53553, saving model to model_cnn_lstm_reg_2024-11-1108_46_03.769712/model-00002-1.76108-0.34540-1.53553-0.53000.h5\n",
      "21/21 [==============================] - 39s 2s/step - loss: 1.7611 - categorical_accuracy: 0.3454 - val_loss: 1.5355 - val_categorical_accuracy: 0.5300 - lr: 0.0010\n",
      "Epoch 3/5\n",
      "21/21 [==============================] - ETA: 0s - loss: 1.4679 - categorical_accuracy: 0.4962\n",
      "Epoch 00003: val_loss improved from 1.53553 to 1.27724, saving model to model_cnn_lstm_reg_2024-11-1108_46_03.769712/model-00003-1.46787-0.49623-1.27724-0.58000.h5\n",
      "21/21 [==============================] - 39s 2s/step - loss: 1.4679 - categorical_accuracy: 0.4962 - val_loss: 1.2772 - val_categorical_accuracy: 0.5800 - lr: 0.0010\n",
      "Epoch 4/5\n",
      "21/21 [==============================] - ETA: 0s - loss: 1.2256 - categorical_accuracy: 0.5732\n",
      "Epoch 00004: val_loss did not improve from 1.27724\n",
      "21/21 [==============================] - 37s 2s/step - loss: 1.2256 - categorical_accuracy: 0.5732 - val_loss: 1.3547 - val_categorical_accuracy: 0.5200 - lr: 0.0010\n",
      "Epoch 5/5\n",
      "21/21 [==============================] - ETA: 0s - loss: 1.0856 - categorical_accuracy: 0.6637\n",
      "Epoch 00005: val_loss did not improve from 1.27724\n",
      "21/21 [==============================] - 39s 2s/step - loss: 1.0856 - categorical_accuracy: 0.6637 - val_loss: 1.3659 - val_categorical_accuracy: 0.5300 - lr: 0.0010\n"
     ]
    },
    {
     "data": {
      "image/png": "[encoded data removed]",
      "text/plain": [
       "<Figure size 576x432 with 2 Axes>"
      ]
     },
     "metadata": {
      "needs_background": "light"
     },
     "output_type": "display_data"
    }
   ],
   "source": [
    "# Execute the model\n",
    "curr_dt_time = datetime.datetime.now() # datetimestamp to be appended to model save file\n",
    "\n",
    "# Reset the Generators to be used by CNN+RNN model\n",
    "train_generator = generator2(train_path, train_doc, batch_size, img_idx, img_h, img_w)\n",
    "val_generator = generator2(val_path, val_doc, batch_size, img_idx, img_h, img_w)\n",
    "\n",
    "# Compile the model and print summary\n",
    "optimiser = tf.keras.optimizers.Adam(learning_rate=0.001)\n",
    "print(model_compile(model, optimiser))\n",
    "\n",
    "# Train the model\n",
    "hist = model_train(model, 'cnn_lstm_reg', train_generator, steps_per_epoch, num_epochs, val_generator, validation_steps, curr_dt_time)\n",
    "\n",
    "# Visualise the model performance\n",
    "model_plot(hist, num_epochs)"
   ]
  },
  {
   "cell_type": "markdown",
   "metadata": {
    "id": "tiIAt-hZWdzF"
   },
   "source": [
    "#### **Observations:**\n",
    "Underfitting issue was addressed. But the model still overfits at higher accuracies.\n",
    "\n",
    "We would try now with higher complexities of Conv2D model with varying image size, batch size and regularization parameters to improve accuracy and reduce overfitting."
   ]
  },
  {
   "cell_type": "markdown",
   "metadata": {
    "id": "bUwz8MpqWdzF"
   },
   "source": [
    "#### 3.3.7 Multi-Layer CNN-GRU Model\n",
    "\n",
    "Add additional layers to CNN-RNN base model with bi-directional GRU to increase accuracy of training and validation further"
   ]
  },
  {
   "cell_type": "code",
   "execution_count": 15,
   "metadata": {
    "executionInfo": {
     "elapsed": 20,
     "status": "aborted",
     "timestamp": 1731247335032,
     "user": {
      "displayName": "Ahul K.Vidhyadaran",
      "userId": "05023894389320834244"
     },
     "user_tz": -330
    },
    "id": "B3Yxd4eAWdzF"
   },
   "outputs": [
    {
     "name": "stderr",
     "output_type": "stream",
     "text": [
      "2024-11-11 16:16:00.012938: W tensorflow/core/common_runtime/gpu/gpu_bfc_allocator.cc:39] Overriding allow_growth setting because the TF_FORCE_GPU_ALLOW_GROWTH environment variable is set. Original config value was 0.\n",
      "2024-11-11 16:16:00.013005: I tensorflow/core/common_runtime/gpu/gpu_device.cc:1525] Created device /job:localhost/replica:0/task:0/device:GPU:0 with 14800 MB memory:  -> device: 0, name: Quadro RTX 5000, pci bus id: 0000:3f:00.0, compute capability: 7.5\n"
     ]
    }
   ],
   "source": [
    "# Define the 5-Conv2D layer CNN-RNN model\n",
    "\n",
    "# Reset the image size as (img_h, img_w)\n",
    "img_h, img_w = 128, 128\n",
    "input_shape = (img_h, img_w, 3)\n",
    "\n",
    "cnn = Sequential()\n",
    "# layer 1: input, with 32 convolutions, maxpooling and batch normalisation\n",
    "cnn.add(Conv2D(32, (3, 3), padding='same', input_shape=input_shape, kernel_regularizer=l2(0.001)))\n",
    "cnn.add(BatchNormalization())\n",
    "cnn.add(Activation('relu'))\n",
    "cnn.add(MaxPooling2D(pool_size=(2,2)))\n",
    "\n",
    "# layer 2: with 64 convolutions, maxpooling and batch normalisation\n",
    "cnn.add(Conv2D(64, (3, 3), padding='same', kernel_regularizer=l2(0.001)))\n",
    "cnn.add(BatchNormalization())\n",
    "cnn.add(Activation('relu'))\n",
    "cnn.add(MaxPooling2D(pool_size=(2,2)))\n",
    "\n",
    "# layer 3: with 128 convolutions, maxpooling and batch normalisation\n",
    "cnn.add(Conv2D(128, (3, 3), padding='same', kernel_regularizer=l2(0.001)))\n",
    "cnn.add(BatchNormalization())\n",
    "cnn.add(Activation('relu'))\n",
    "cnn.add(MaxPooling2D(pool_size=(2,2)))\n",
    "\n",
    "# layer 4: with 128 convolutions, maxpooling and batch normalisation\n",
    "cnn.add(Conv2D(128, (3, 3), padding='same', kernel_regularizer=l2(0.001)))\n",
    "cnn.add(BatchNormalization())\n",
    "cnn.add(Activation('relu'))\n",
    "cnn.add(MaxPooling2D(pool_size=(2,2)))\n",
    "cnn.add(Dropout(0.25))\n",
    "\n",
    "# layer 5: with 128 convolutions, maxpooling and batch normalisation\n",
    "cnn.add(Conv2D(128, (3, 3), padding='same', kernel_regularizer=l2(0.001)))\n",
    "cnn.add(BatchNormalization())\n",
    "cnn.add(Activation('relu'))\n",
    "cnn.add(MaxPooling2D(pool_size=(2,2)))\n",
    "cnn.add(Dropout(0.25))\n",
    "\n",
    "cnn.add(Flatten())\n",
    "\n",
    "# Layer 6: Dense layer with 256 neurons & drop-outs\n",
    "cnn.add(Dense(256, activation='relu', kernel_regularizer=l2(0.001)))\n",
    "cnn.add(Dropout(0.5))\n",
    "\n",
    "# Layer 7: Dense layer with 256 neurons\n",
    "cnn.add(Dense(256, activation='relu', kernel_regularizer=l2(0.001)))\n",
    "\n",
    "input_shape = (frames_cnt, img_h, img_w, 3)\n",
    "\n",
    "model = Sequential()\n",
    "\n",
    "# Layer 8: Bidirectional GRU layer with drop-outs\n",
    "model.add(TimeDistributed(cnn, input_shape=input_shape))\n",
    "model.add(Bidirectional(GRU(32)))\n",
    "model.add(Dropout(.2))\n",
    "\n",
    "# Layer 9: with softmax as the last output layer\n",
    "model.add(Dense(5, activation='softmax'))"
   ]
  },
  {
   "cell_type": "code",
   "execution_count": 16,
   "metadata": {
    "executionInfo": {
     "elapsed": 20,
     "status": "aborted",
     "timestamp": 1731247335032,
     "user": {
      "displayName": "Ahul K.Vidhyadaran",
      "userId": "05023894389320834244"
     },
     "user_tz": -330
    },
    "id": "waojqs7hWdzF"
   },
   "outputs": [
    {
     "name": "stdout",
     "output_type": "stream",
     "text": [
      "Model: \"sequential_1\"\n",
      "_________________________________________________________________\n",
      " Layer (type)                Output Shape              Param #   \n",
      "=================================================================\n",
      " time_distributed (TimeDistr  (None, 15, 256)          980672    \n",
      " ibuted)                                                         \n",
      "                                                                 \n",
      " bidirectional (Bidirectiona  (None, 64)               55680     \n",
      " l)                                                              \n",
      "                                                                 \n",
      " dropout_3 (Dropout)         (None, 64)                0         \n",
      "                                                                 \n",
      " dense_2 (Dense)             (None, 5)                 325       \n",
      "                                                                 \n",
      "=================================================================\n",
      "Total params: 1,036,677\n",
      "Trainable params: 1,035,717\n",
      "Non-trainable params: 960\n",
      "_________________________________________________________________\n",
      "None\n",
      "\n",
      "Source path = /home/datasets/Project_data/train ; batch size = 32\n",
      "Epoch 1/40\n"
     ]
    },
    {
     "name": "stderr",
     "output_type": "stream",
     "text": [
      "2024-11-11 16:16:21.984204: I tensorflow/stream_executor/cuda/cuda_dnn.cc:377] Loaded cuDNN version 8302\n"
     ]
    },
    {
     "name": "stdout",
     "output_type": "stream",
     "text": [
      "21/21 [==============================] - ETA: 0s - loss: 2.7870 - categorical_accuracy: 0.3077\n",
      "Source path = /home/datasets/Project_data/val ; batch size = 32\n",
      "\n",
      "Epoch 00001: val_loss improved from inf to 3.29493, saving model to model_cnn_rnn_2_2024-11-1116_16_14.799353/model-00001-2.78697-0.30769-3.29493-0.16000.h5\n",
      "21/21 [==============================] - 70s 3s/step - loss: 2.7870 - categorical_accuracy: 0.3077 - val_loss: 3.2949 - val_categorical_accuracy: 0.1600 - lr: 0.0010\n",
      "Epoch 2/40\n",
      "21/21 [==============================] - ETA: 0s - loss: 2.4879 - categorical_accuracy: 0.3424\n",
      "Epoch 00002: val_loss did not improve from 3.29493\n",
      "21/21 [==============================] - 52s 3s/step - loss: 2.4879 - categorical_accuracy: 0.3424 - val_loss: 3.2953 - val_categorical_accuracy: 0.2200 - lr: 0.0010\n",
      "Epoch 3/40\n",
      "21/21 [==============================] - ETA: 0s - loss: 2.3111 - categorical_accuracy: 0.4193\n",
      "Epoch 00003: val_loss did not improve from 3.29493\n",
      "21/21 [==============================] - 47s 2s/step - loss: 2.3111 - categorical_accuracy: 0.4193 - val_loss: 3.5112 - val_categorical_accuracy: 0.2400 - lr: 0.0010\n",
      "Epoch 4/40\n",
      "21/21 [==============================] - ETA: 0s - loss: 2.1917 - categorical_accuracy: 0.4917\n",
      "Epoch 00004: val_loss improved from 3.29493 to 3.28504, saving model to model_cnn_rnn_2_2024-11-1116_16_14.799353/model-00004-2.19166-0.49170-3.28504-0.21000.h5\n",
      "21/21 [==============================] - 46s 2s/step - loss: 2.1917 - categorical_accuracy: 0.4917 - val_loss: 3.2850 - val_categorical_accuracy: 0.2100 - lr: 0.0010\n",
      "Epoch 5/40\n",
      "21/21 [==============================] - ETA: 0s - loss: 2.0880 - categorical_accuracy: 0.4902\n",
      "Epoch 00005: val_loss did not improve from 3.28504\n",
      "21/21 [==============================] - 47s 2s/step - loss: 2.0880 - categorical_accuracy: 0.4902 - val_loss: 3.2871 - val_categorical_accuracy: 0.1700 - lr: 0.0010\n",
      "Epoch 6/40\n",
      "21/21 [==============================] - ETA: 0s - loss: 1.9957 - categorical_accuracy: 0.5113\n",
      "Epoch 00006: val_loss did not improve from 3.28504\n",
      "21/21 [==============================] - 48s 2s/step - loss: 1.9957 - categorical_accuracy: 0.5113 - val_loss: 3.2870 - val_categorical_accuracy: 0.2500 - lr: 0.0010\n",
      "Epoch 7/40\n",
      "21/21 [==============================] - ETA: 0s - loss: 1.8520 - categorical_accuracy: 0.5822\n",
      "Epoch 00007: val_loss did not improve from 3.28504\n",
      "21/21 [==============================] - 47s 2s/step - loss: 1.8520 - categorical_accuracy: 0.5822 - val_loss: 3.2948 - val_categorical_accuracy: 0.2600 - lr: 0.0010\n",
      "Epoch 8/40\n",
      "21/21 [==============================] - ETA: 0s - loss: 1.6378 - categorical_accuracy: 0.7074\n",
      "Epoch 00008: val_loss did not improve from 3.28504\n",
      "21/21 [==============================] - 45s 2s/step - loss: 1.6378 - categorical_accuracy: 0.7074 - val_loss: 3.5458 - val_categorical_accuracy: 0.2300 - lr: 0.0010\n",
      "Epoch 9/40\n",
      "21/21 [==============================] - ETA: 0s - loss: 1.5524 - categorical_accuracy: 0.7014\n",
      "Epoch 00009: val_loss did not improve from 3.28504\n",
      "21/21 [==============================] - 47s 2s/step - loss: 1.5524 - categorical_accuracy: 0.7014 - val_loss: 3.5523 - val_categorical_accuracy: 0.2100 - lr: 0.0010\n",
      "Epoch 10/40\n",
      "21/21 [==============================] - ETA: 0s - loss: 1.4145 - categorical_accuracy: 0.7738\n",
      "Epoch 00010: val_loss did not improve from 3.28504\n",
      "21/21 [==============================] - 47s 2s/step - loss: 1.4145 - categorical_accuracy: 0.7738 - val_loss: 3.4446 - val_categorical_accuracy: 0.2700 - lr: 2.0000e-04\n",
      "Epoch 11/40\n",
      "21/21 [==============================] - ETA: 0s - loss: 1.3090 - categorical_accuracy: 0.7994\n",
      "Epoch 00011: val_loss did not improve from 3.28504\n",
      "21/21 [==============================] - 47s 2s/step - loss: 1.3090 - categorical_accuracy: 0.7994 - val_loss: 3.4049 - val_categorical_accuracy: 0.2300 - lr: 2.0000e-04\n",
      "Epoch 12/40\n",
      "21/21 [==============================] - ETA: 0s - loss: 1.2470 - categorical_accuracy: 0.8265\n",
      "Epoch 00012: val_loss did not improve from 3.28504\n",
      "21/21 [==============================] - 45s 2s/step - loss: 1.2470 - categorical_accuracy: 0.8265 - val_loss: 3.3083 - val_categorical_accuracy: 0.3100 - lr: 2.0000e-04\n",
      "Epoch 13/40\n",
      "21/21 [==============================] - ETA: 0s - loss: 1.1762 - categorical_accuracy: 0.8597\n",
      "Epoch 00013: val_loss improved from 3.28504 to 3.12784, saving model to model_cnn_rnn_2_2024-11-1116_16_14.799353/model-00013-1.17618-0.85973-3.12784-0.30000.h5\n",
      "21/21 [==============================] - 46s 2s/step - loss: 1.1762 - categorical_accuracy: 0.8597 - val_loss: 3.1278 - val_categorical_accuracy: 0.3000 - lr: 2.0000e-04\n",
      "Epoch 14/40\n",
      "21/21 [==============================] - ETA: 0s - loss: 1.1434 - categorical_accuracy: 0.8597\n",
      "Epoch 00014: val_loss improved from 3.12784 to 3.12315, saving model to model_cnn_rnn_2_2024-11-1116_16_14.799353/model-00014-1.14335-0.85973-3.12315-0.37000.h5\n",
      "21/21 [==============================] - 47s 2s/step - loss: 1.1434 - categorical_accuracy: 0.8597 - val_loss: 3.1231 - val_categorical_accuracy: 0.3700 - lr: 2.0000e-04\n",
      "Epoch 15/40\n",
      "21/21 [==============================] - ETA: 0s - loss: 1.1347 - categorical_accuracy: 0.8748\n",
      "Epoch 00015: val_loss improved from 3.12315 to 2.25714, saving model to model_cnn_rnn_2_2024-11-1116_16_14.799353/model-00015-1.13469-0.87481-2.25714-0.53000.h5\n",
      "21/21 [==============================] - 48s 2s/step - loss: 1.1347 - categorical_accuracy: 0.8748 - val_loss: 2.2571 - val_categorical_accuracy: 0.5300 - lr: 2.0000e-04\n",
      "Epoch 16/40\n",
      "21/21 [==============================] - ETA: 0s - loss: 1.0623 - categorical_accuracy: 0.8974\n",
      "Epoch 00016: val_loss did not improve from 2.25714\n",
      "21/21 [==============================] - 45s 2s/step - loss: 1.0623 - categorical_accuracy: 0.8974 - val_loss: 2.2884 - val_categorical_accuracy: 0.5000 - lr: 2.0000e-04\n",
      "Epoch 17/40\n",
      "21/21 [==============================] - ETA: 0s - loss: 1.0198 - categorical_accuracy: 0.9080\n",
      "Epoch 00017: val_loss improved from 2.25714 to 1.78421, saving model to model_cnn_rnn_2_2024-11-1116_16_14.799353/model-00017-1.01978-0.90799-1.78421-0.66000.h5\n",
      "21/21 [==============================] - 48s 2s/step - loss: 1.0198 - categorical_accuracy: 0.9080 - val_loss: 1.7842 - val_categorical_accuracy: 0.6600 - lr: 2.0000e-04\n",
      "Epoch 18/40\n",
      "21/21 [==============================] - ETA: 0s - loss: 1.0021 - categorical_accuracy: 0.9065\n",
      "Epoch 00018: val_loss did not improve from 1.78421\n",
      "21/21 [==============================] - 47s 2s/step - loss: 1.0021 - categorical_accuracy: 0.9065 - val_loss: 1.8016 - val_categorical_accuracy: 0.5700 - lr: 2.0000e-04\n",
      "Epoch 19/40\n",
      "21/21 [==============================] - ETA: 0s - loss: 0.9489 - categorical_accuracy: 0.9291\n",
      "Epoch 00019: val_loss improved from 1.78421 to 1.42334, saving model to model_cnn_rnn_2_2024-11-1116_16_14.799353/model-00019-0.94891-0.92911-1.42334-0.77000.h5\n",
      "21/21 [==============================] - 48s 2s/step - loss: 0.9489 - categorical_accuracy: 0.9291 - val_loss: 1.4233 - val_categorical_accuracy: 0.7700 - lr: 2.0000e-04\n",
      "Epoch 20/40\n",
      "21/21 [==============================] - ETA: 0s - loss: 0.9250 - categorical_accuracy: 0.9382\n",
      "Epoch 00020: val_loss did not improve from 1.42334\n",
      "21/21 [==============================] - 46s 2s/step - loss: 0.9250 - categorical_accuracy: 0.9382 - val_loss: 1.5069 - val_categorical_accuracy: 0.7100 - lr: 2.0000e-04\n",
      "Epoch 21/40\n",
      "21/21 [==============================] - ETA: 0s - loss: 0.8748 - categorical_accuracy: 0.9442\n",
      "Epoch 00021: val_loss did not improve from 1.42334\n",
      "21/21 [==============================] - 47s 2s/step - loss: 0.8748 - categorical_accuracy: 0.9442 - val_loss: 1.4761 - val_categorical_accuracy: 0.7600 - lr: 2.0000e-04\n",
      "Epoch 22/40\n",
      "21/21 [==============================] - ETA: 0s - loss: 0.8608 - categorical_accuracy: 0.9548\n",
      "Epoch 00022: val_loss did not improve from 1.42334\n",
      "21/21 [==============================] - 47s 2s/step - loss: 0.8608 - categorical_accuracy: 0.9548 - val_loss: 1.4961 - val_categorical_accuracy: 0.7200 - lr: 2.0000e-04\n",
      "Epoch 23/40\n",
      "21/21 [==============================] - ETA: 0s - loss: 0.8435 - categorical_accuracy: 0.9563\n",
      "Epoch 00023: val_loss did not improve from 1.42334\n",
      "21/21 [==============================] - 47s 2s/step - loss: 0.8435 - categorical_accuracy: 0.9563 - val_loss: 1.6039 - val_categorical_accuracy: 0.7200 - lr: 2.0000e-04\n",
      "Epoch 24/40\n",
      "21/21 [==============================] - ETA: 0s - loss: 0.8290 - categorical_accuracy: 0.9593\n",
      "Epoch 00024: val_loss improved from 1.42334 to 1.27543, saving model to model_cnn_rnn_2_2024-11-1116_16_14.799353/model-00024-0.82899-0.95928-1.27543-0.78000.h5\n",
      "21/21 [==============================] - 46s 2s/step - loss: 0.8290 - categorical_accuracy: 0.9593 - val_loss: 1.2754 - val_categorical_accuracy: 0.7800 - lr: 2.0000e-04\n",
      "Epoch 25/40\n",
      "21/21 [==============================] - ETA: 0s - loss: 0.7814 - categorical_accuracy: 0.9774\n",
      "Epoch 00025: val_loss did not improve from 1.27543\n",
      "21/21 [==============================] - 47s 2s/step - loss: 0.7814 - categorical_accuracy: 0.9774 - val_loss: 1.3935 - val_categorical_accuracy: 0.7600 - lr: 2.0000e-04\n",
      "Epoch 26/40\n",
      "21/21 [==============================] - ETA: 0s - loss: 0.7558 - categorical_accuracy: 0.9894\n",
      "Epoch 00026: val_loss improved from 1.27543 to 1.09941, saving model to model_cnn_rnn_2_2024-11-1116_16_14.799353/model-00026-0.75584-0.98944-1.09941-0.86000.h5\n",
      "21/21 [==============================] - 48s 2s/step - loss: 0.7558 - categorical_accuracy: 0.9894 - val_loss: 1.0994 - val_categorical_accuracy: 0.8600 - lr: 2.0000e-04\n",
      "Epoch 27/40\n",
      "21/21 [==============================] - ETA: 0s - loss: 0.7313 - categorical_accuracy: 0.9910\n",
      "Epoch 00027: val_loss improved from 1.09941 to 1.04404, saving model to model_cnn_rnn_2_2024-11-1116_16_14.799353/model-00027-0.73131-0.99095-1.04404-0.85000.h5\n",
      "21/21 [==============================] - 47s 2s/step - loss: 0.7313 - categorical_accuracy: 0.9910 - val_loss: 1.0440 - val_categorical_accuracy: 0.8500 - lr: 2.0000e-04\n",
      "Epoch 28/40\n",
      "21/21 [==============================] - ETA: 0s - loss: 0.7549 - categorical_accuracy: 0.9774\n",
      "Epoch 00028: val_loss did not improve from 1.04404\n",
      "21/21 [==============================] - 45s 2s/step - loss: 0.7549 - categorical_accuracy: 0.9774 - val_loss: 1.3001 - val_categorical_accuracy: 0.7900 - lr: 2.0000e-04\n",
      "Epoch 29/40\n",
      "21/21 [==============================] - ETA: 0s - loss: 0.7174 - categorical_accuracy: 0.9894\n",
      "Epoch 00029: val_loss improved from 1.04404 to 0.96973, saving model to model_cnn_rnn_2_2024-11-1116_16_14.799353/model-00029-0.71742-0.98944-0.96973-0.85000.h5\n",
      "21/21 [==============================] - 47s 2s/step - loss: 0.7174 - categorical_accuracy: 0.9894 - val_loss: 0.9697 - val_categorical_accuracy: 0.8500 - lr: 2.0000e-04\n",
      "Epoch 30/40\n",
      "21/21 [==============================] - ETA: 0s - loss: 0.7039 - categorical_accuracy: 0.9879\n",
      "Epoch 00030: val_loss did not improve from 0.96973\n",
      "21/21 [==============================] - 47s 2s/step - loss: 0.7039 - categorical_accuracy: 0.9879 - val_loss: 1.1491 - val_categorical_accuracy: 0.8300 - lr: 2.0000e-04\n",
      "Epoch 31/40\n",
      "21/21 [==============================] - ETA: 0s - loss: 0.6887 - categorical_accuracy: 0.9955\n",
      "Epoch 00031: val_loss improved from 0.96973 to 0.93482, saving model to model_cnn_rnn_2_2024-11-1116_16_14.799353/model-00031-0.68872-0.99548-0.93482-0.87000.h5\n",
      "21/21 [==============================] - 47s 2s/step - loss: 0.6887 - categorical_accuracy: 0.9955 - val_loss: 0.9348 - val_categorical_accuracy: 0.8700 - lr: 2.0000e-04\n",
      "Epoch 32/40\n",
      "21/21 [==============================] - ETA: 0s - loss: 0.7065 - categorical_accuracy: 0.9804\n",
      "Epoch 00032: val_loss did not improve from 0.93482\n",
      "21/21 [==============================] - 45s 2s/step - loss: 0.7065 - categorical_accuracy: 0.9804 - val_loss: 1.4280 - val_categorical_accuracy: 0.7400 - lr: 2.0000e-04\n",
      "Epoch 33/40\n",
      "21/21 [==============================] - ETA: 0s - loss: 0.7287 - categorical_accuracy: 0.9668\n",
      "Epoch 00033: val_loss did not improve from 0.93482\n",
      "21/21 [==============================] - 47s 2s/step - loss: 0.7287 - categorical_accuracy: 0.9668 - val_loss: 1.1921 - val_categorical_accuracy: 0.8200 - lr: 2.0000e-04\n",
      "Epoch 34/40\n",
      "21/21 [==============================] - ETA: 0s - loss: 0.6841 - categorical_accuracy: 0.9849\n",
      "Epoch 00034: val_loss did not improve from 0.93482\n",
      "21/21 [==============================] - 48s 2s/step - loss: 0.6841 - categorical_accuracy: 0.9849 - val_loss: 1.3731 - val_categorical_accuracy: 0.7500 - lr: 2.0000e-04\n",
      "Epoch 35/40\n",
      "21/21 [==============================] - ETA: 0s - loss: 0.6592 - categorical_accuracy: 0.9910\n",
      "Epoch 00035: val_loss did not improve from 0.93482\n",
      "21/21 [==============================] - 48s 2s/step - loss: 0.6592 - categorical_accuracy: 0.9910 - val_loss: 1.3580 - val_categorical_accuracy: 0.7500 - lr: 2.0000e-04\n",
      "Epoch 36/40\n",
      "21/21 [==============================] - ETA: 0s - loss: 0.6339 - categorical_accuracy: 0.9970\n",
      "Epoch 00036: val_loss improved from 0.93482 to 0.86693, saving model to model_cnn_rnn_2_2024-11-1116_16_14.799353/model-00036-0.63390-0.99698-0.86693-0.91000.h5\n",
      "21/21 [==============================] - 46s 2s/step - loss: 0.6339 - categorical_accuracy: 0.9970 - val_loss: 0.8669 - val_categorical_accuracy: 0.9100 - lr: 2.0000e-04\n",
      "Epoch 37/40\n",
      "21/21 [==============================] - ETA: 0s - loss: 0.6251 - categorical_accuracy: 0.9985\n",
      "Epoch 00037: val_loss did not improve from 0.86693\n",
      "21/21 [==============================] - 47s 2s/step - loss: 0.6251 - categorical_accuracy: 0.9985 - val_loss: 0.9581 - val_categorical_accuracy: 0.8800 - lr: 2.0000e-04\n",
      "Epoch 38/40\n",
      "21/21 [==============================] - ETA: 0s - loss: 0.6126 - categorical_accuracy: 0.9985\n",
      "Epoch 00038: val_loss improved from 0.86693 to 0.81421, saving model to model_cnn_rnn_2_2024-11-1116_16_14.799353/model-00038-0.61262-0.99849-0.81421-0.92000.h5\n",
      "21/21 [==============================] - 47s 2s/step - loss: 0.6126 - categorical_accuracy: 0.9985 - val_loss: 0.8142 - val_categorical_accuracy: 0.9200 - lr: 2.0000e-04\n",
      "Epoch 39/40\n",
      "21/21 [==============================] - ETA: 0s - loss: 0.6026 - categorical_accuracy: 1.0000\n",
      "Epoch 00039: val_loss did not improve from 0.81421\n",
      "21/21 [==============================] - 47s 2s/step - loss: 0.6026 - categorical_accuracy: 1.0000 - val_loss: 1.1549 - val_categorical_accuracy: 0.8000 - lr: 2.0000e-04\n",
      "Epoch 40/40\n",
      "21/21 [==============================] - ETA: 0s - loss: 0.5989 - categorical_accuracy: 0.9985\n",
      "Epoch 00040: val_loss did not improve from 0.81421\n",
      "21/21 [==============================] - 45s 2s/step - loss: 0.5989 - categorical_accuracy: 0.9985 - val_loss: 0.9005 - val_categorical_accuracy: 0.8800 - lr: 2.0000e-04\n"
     ]
    },
    {
     "data": {
      "image/png": "[encoded data removed]",
      "text/plain": [
       "<Figure size 576x432 with 2 Axes>"
      ]
     },
     "metadata": {
      "needs_background": "light"
     },
     "output_type": "display_data"
    }
   ],
   "source": [
    "# Execute the model\n",
    "curr_dt_time = datetime.datetime.now() # datetimestamp to be appended to model save file\n",
    "num_epochs = 40\n",
    "\n",
    "# Reset the Generators to be used by CNN+RNN model\n",
    "train_generator = generator2(train_path, train_doc, batch_size, img_idx, img_h, img_w)\n",
    "val_generator = generator2(val_path, val_doc, batch_size, img_idx, img_h, img_w)\n",
    "\n",
    "# Compile the model and print summary\n",
    "optimiser = tf.keras.optimizers.Adam(learning_rate=0.001)\n",
    "print(model_compile(model, optimiser))\n",
    "\n",
    "# Train the model\n",
    "hist = model_train(model, 'cnn_rnn_2', train_generator, steps_per_epoch, num_epochs, val_generator, validation_steps, curr_dt_time)\n",
    "\n",
    "# Visualise the model performance\n",
    "model_plot(hist, num_epochs)"
   ]
  },
  {
   "cell_type": "code",
   "execution_count": null,
   "metadata": {
    "executionInfo": {
     "elapsed": 19,
     "status": "aborted",
     "timestamp": 1731247335032,
     "user": {
      "displayName": "Ahul K.Vidhyadaran",
      "userId": "05023894389320834244"
     },
     "user_tz": -330
    },
    "id": "FbGxcOZ3WdzG"
   },
   "outputs": [],
   "source": [
    "# Visualise any specific model history from stored data\n",
    "# import pandas as pd\n",
    "\n",
    "# log = pd.DataFrame\n",
    "# log.history = pd.read_csv('model_cnn_rnn_2_2024-11-0902_38_41.921017/training.log') # Provide the history csv file name with path here\n",
    "\n",
    "# # Visualise the model performance\n",
    "# model_plot(log, 50)"
   ]
  },
  {
   "cell_type": "markdown",
   "metadata": {
    "id": "lnoXDrHGWdzG"
   },
   "source": [
    "#### **Observations:**\n",
    "The model performance improved well with Val accuracy improved to 0.90 with little gap between training and validation accuracies indicating less overfitting. Though the trainable parameters increased to 1M+, but this is still reasonable for a video analysis model.\n",
    "\n",
    "This is our best model."
   ]
  },
  {
   "cell_type": "markdown",
   "metadata": {
    "id": "3oY6ul7yWdzG"
   },
   "source": [
    "## 4. Conclusion"
   ]
  },
  {
   "cell_type": "markdown",
   "metadata": {
    "id": "hpLmUECnWdzG"
   },
   "source": [
    "In conclusion, after experimenting with Conv3D and CNN+RNN based models, we successfully finalised a CNN-RNN model for gesture recognition, achieving a strong performance with a **training accuracy of 1.0 and a validation accuracy of 0.9**. The model architecture utilized five Conv2D layers for feature extraction from video frames, followed by a GRU layer with 32 units to capture temporal dependencies across frames. \n",
    "\n",
    "To mitigate overfitting and enhance model generalization, we applied dropout, batch normalization, and kernel regularization within each Conv2D layer. The input images were resized to 128x128 resolution, and a batch size of 32 was used for efficient training. This setup allowed the model to effectively recognize gestures, making it suitable for real-time gesture-controlled applications, such as operating a TV. \n",
    "\n",
    "Overall, the model demonstrates both high accuracy and robustness, providing a reliable solution for gesture recognition in video sequences."
   ]
  }
 ],
 "metadata": {
  "accelerator": "GPU",
  "colab": {
   "gpuType": "L4",
   "provenance": []
  },
  "kernelspec": {
   "display_name": "Python 3 (ipykernel)",
   "language": "python",
   "name": "python3"
  },
  "language_info": {
   "codemirror_mode": {
    "name": "ipython",
    "version": 3
   },
   "file_extension": ".py",
   "mimetype": "text/x-python",
   "name": "python",
   "nbconvert_exporter": "python",
   "pygments_lexer": "ipython3",
   "version": "3.11.7"
  }
 },
 "nbformat": 4,
 "nbformat_minor": 4
}
